{
 "cells": [
  {
   "cell_type": "code",
   "execution_count": 56,
   "metadata": {},
   "outputs": [],
   "source": [
    "import youtube_dl\n",
    "import os\n",
    "import pandas as pd"
   ]
  },
  {
   "cell_type": "code",
   "execution_count": 63,
   "metadata": {},
   "outputs": [],
   "source": [
    "options = {\n",
    "    'outtmpl': 'converter/output.%(ext)s',\n",
    "    'format': 'bestaudio/best',\n",
    "    'postprocessors': [{\n",
    "        'key': 'FFmpegExtractAudio',\n",
    "        'preferredcodec': 'wav',\n",
    "        'preferredquality': '192',\n",
    "    }],\n",
    "}"
   ]
  },
  {
   "cell_type": "code",
   "execution_count": 64,
   "metadata": {},
   "outputs": [],
   "source": [
    "ydl = youtube_dl.YoutubeDL(options)"
   ]
  },
  {
   "cell_type": "code",
   "execution_count": 119,
   "metadata": {},
   "outputs": [],
   "source": [
    "df_videos = pd.read_csv(\"eval_segments.csv\",skipinitialspace = True,sep=\",\",skiprows=2,quotechar='\"')"
   ]
  },
  {
   "cell_type": "code",
   "execution_count": 123,
   "metadata": {},
   "outputs": [],
   "source": [
    "df_male = df_videos[df_videos['positive_labels'].str.contains(\"/m/05zppz\")]"
   ]
  },
  {
   "cell_type": "code",
   "execution_count": 126,
   "metadata": {},
   "outputs": [
    {
     "data": {
      "text/html": [
       "<div>\n",
       "<style scoped>\n",
       "    .dataframe tbody tr th:only-of-type {\n",
       "        vertical-align: middle;\n",
       "    }\n",
       "\n",
       "    .dataframe tbody tr th {\n",
       "        vertical-align: top;\n",
       "    }\n",
       "\n",
       "    .dataframe thead th {\n",
       "        text-align: right;\n",
       "    }\n",
       "</style>\n",
       "<table border=\"1\" class=\"dataframe\">\n",
       "  <thead>\n",
       "    <tr style=\"text-align: right;\">\n",
       "      <th></th>\n",
       "      <th># YTID</th>\n",
       "      <th>start_seconds</th>\n",
       "      <th>end_seconds</th>\n",
       "      <th>positive_labels</th>\n",
       "    </tr>\n",
       "  </thead>\n",
       "  <tbody>\n",
       "    <tr>\n",
       "      <th>574</th>\n",
       "      <td>0QabiRBcEKc</td>\n",
       "      <td>50.0</td>\n",
       "      <td>60.0</td>\n",
       "      <td>/m/05zppz,/m/09x0r,/m/0cj0r</td>\n",
       "    </tr>\n",
       "    <tr>\n",
       "      <th>945</th>\n",
       "      <td>1OFDyTzUj24</td>\n",
       "      <td>30.0</td>\n",
       "      <td>40.0</td>\n",
       "      <td>/m/01h8n0,/m/05zppz,/m/09x0r</td>\n",
       "    </tr>\n",
       "    <tr>\n",
       "      <th>1923</th>\n",
       "      <td>45h1cMSHzYU</td>\n",
       "      <td>110.0</td>\n",
       "      <td>120.0</td>\n",
       "      <td>/m/04rlf,/m/05zppz,/m/06by7,/m/07p6fty,/m/09x0r</td>\n",
       "    </tr>\n",
       "  </tbody>\n",
       "</table>\n",
       "</div>"
      ],
      "text/plain": [
       "           # YTID  start_seconds  end_seconds  \\\n",
       "574   0QabiRBcEKc           50.0         60.0   \n",
       "945   1OFDyTzUj24           30.0         40.0   \n",
       "1923  45h1cMSHzYU          110.0        120.0   \n",
       "\n",
       "                                      positive_labels  \n",
       "574                       /m/05zppz,/m/09x0r,/m/0cj0r  \n",
       "945                      /m/01h8n0,/m/05zppz,/m/09x0r  \n",
       "1923  /m/04rlf,/m/05zppz,/m/06by7,/m/07p6fty,/m/09x0r  "
      ]
     },
     "execution_count": 126,
     "metadata": {},
     "output_type": "execute_result"
    }
   ],
   "source": [
    "df_male.head(3)"
   ]
  },
  {
   "cell_type": "code",
   "execution_count": 130,
   "metadata": {},
   "outputs": [
    {
     "name": "stdout",
     "output_type": "stream",
     "text": [
      "[youtube] 0QabiRBcEKc: Downloading webpage\n",
      "[youtube] 0QabiRBcEKc: Downloading video info webpage\n",
      "[download] Destination: converter/output.m4a\n",
      "[download] 100% of 1.69MiB in 00:0076MiB/s ETA 00:002\n",
      "[ffmpeg] Correcting container in \"converter/output.m4a\"\n",
      "[ffmpeg] Destination: converter/output.wav\n",
      "Deleting original file converter/output.m4a (pass -k to keep)\n",
      "[youtube] 1OFDyTzUj24: Downloading webpage\n",
      "[youtube] 1OFDyTzUj24: Downloading video info webpage\n",
      "[download] Destination: converter/output.webm\n",
      "[download] 100% of 3.39MiB in 00:0129MiB/s ETA 00:004\n",
      "[ffmpeg] Destination: converter/output.wav\n",
      "Deleting original file converter/output.webm (pass -k to keep)\n",
      "[youtube] 45h1cMSHzYU: Downloading webpage\n",
      "[youtube] 45h1cMSHzYU: Downloading video info webpage\n",
      "[download] Destination: converter/output.webm\n",
      "[download] 100% of 3.94MiB in 00:0147MiB/s ETA 00:005\n",
      "[ffmpeg] Destination: converter/output.wav\n",
      "Deleting original file converter/output.webm (pass -k to keep)\n",
      "[youtube] 5kQF4r03yRI: Downloading webpage\n",
      "[youtube] 5kQF4r03yRI: Downloading video info webpage\n",
      "[download] Destination: converter/output.m4a\n",
      "[download] 100% of 79.18KiB in 00:0014MiB/s ETA 00:000\n",
      "[ffmpeg] Correcting container in \"converter/output.m4a\"\n",
      "[ffmpeg] Destination: converter/output.wav\n",
      "Deleting original file converter/output.m4a (pass -k to keep)\n",
      "[youtube] 6-RIiM19Be8: Downloading webpage\n",
      "[youtube] 6-RIiM19Be8: Downloading video info webpage\n",
      "[download] Destination: converter/output.m4a\n",
      "[download] 100% of 4.66MiB in 00:0153MiB/s ETA 00:005\n",
      "[ffmpeg] Correcting container in \"converter/output.m4a\"\n",
      "[ffmpeg] Destination: converter/output.wav\n",
      "Deleting original file converter/output.m4a (pass -k to keep)\n",
      "[youtube] 6xlV_D4yJDc: Downloading webpage\n",
      "[youtube] 6xlV_D4yJDc: Downloading video info webpage\n",
      "[youtube] 6xlV_D4yJDc: Downloading MPD manifest\n",
      "[youtube] 6xlV_D4yJDc: Downloading MPD manifest\n",
      "[dashsegments] Total fragments: 8\n",
      "[download] Destination: converter/output.m4a\n",
      "[download] 100% of 1007.13KiB in 00:01.69MiB/s ETA 00:000\n",
      "[ffmpeg] Correcting container in \"converter/output.m4a\"\n",
      "[ffmpeg] Destination: converter/output.wav\n",
      "Deleting original file converter/output.m4a (pass -k to keep)\n",
      "[youtube] 72RI4phr0F8: Downloading webpage\n",
      "[youtube] 72RI4phr0F8: Downloading video info webpage\n",
      "[download] Destination: converter/output.m4a\n",
      "[download] 100% of 1.43MiB in 00:0013MiB/s ETA 00:001\n",
      "[ffmpeg] Correcting container in \"converter/output.m4a\"\n",
      "[ffmpeg] Destination: converter/output.wav\n",
      "Deleting original file converter/output.m4a (pass -k to keep)\n",
      "[youtube] 7oHaG3Ez5-4: Downloading webpage\n",
      "[youtube] 7oHaG3Ez5-4: Downloading video info webpage\n",
      "[download] Destination: converter/output.m4a\n",
      "[download] 100% of 9.14MiB in 00:0112MiB/s ETA 00:007\n",
      "[ffmpeg] Correcting container in \"converter/output.m4a\"\n",
      "[ffmpeg] Destination: converter/output.wav\n",
      "Deleting original file converter/output.m4a (pass -k to keep)\n",
      "[youtube] 9cYVBOJmXIw: Downloading webpage\n",
      "[youtube] 9cYVBOJmXIw: Downloading video info webpage\n",
      "[download] Destination: converter/output.webm\n",
      "[download] 100% of 1.35MiB in 00:0066MiB/s ETA 00:001\n",
      "[ffmpeg] Destination: converter/output.wav\n",
      "Deleting original file converter/output.webm (pass -k to keep)\n",
      "[youtube] 9wkgTdE7nz8: Downloading webpage\n",
      "[youtube] 9wkgTdE7nz8: Downloading video info webpage\n",
      "[download] Destination: converter/output.m4a\n",
      "[download] 100% of 4.42MiB in 00:0160MiB/s ETA 00:006\n",
      "[ffmpeg] Correcting container in \"converter/output.m4a\"\n",
      "[ffmpeg] Destination: converter/output.wav\n",
      "Deleting original file converter/output.m4a (pass -k to keep)\n",
      "[youtube] A7wdgVaqhPI: Downloading webpage\n",
      "[youtube] A7wdgVaqhPI: Downloading video info webpage\n"
     ]
    },
    {
     "name": "stderr",
     "output_type": "stream",
     "text": [
      "WARNING: Unable to extract video title\n",
      "ERROR: \"KTR Awesome Speech on BAN...\" The YouTube account associated with this video has been terminated due to multiple third-party notifications of copyright infringement.\n"
     ]
    },
    {
     "ename": "DownloadError",
     "evalue": "ERROR: \"KTR Awesome Speech on BAN...\" The YouTube account associated with this video has been terminated due to multiple third-party notifications of copyright infringement.",
     "output_type": "error",
     "traceback": [
      "\u001b[0;31m---------------------------------------------------------------------------\u001b[0m",
      "\u001b[0;31mExtractorError\u001b[0m                            Traceback (most recent call last)",
      "\u001b[0;32m~/bin/anaconda3/lib/python3.6/site-packages/youtube_dl/YoutubeDL.py\u001b[0m in \u001b[0;36mextract_info\u001b[0;34m(self, url, download, ie_key, extra_info, process, force_generic_extractor)\u001b[0m\n\u001b[1;32m    791\u001b[0m             \u001b[0;32mtry\u001b[0m\u001b[0;34m:\u001b[0m\u001b[0;34m\u001b[0m\u001b[0m\n\u001b[0;32m--> 792\u001b[0;31m                 \u001b[0mie_result\u001b[0m \u001b[0;34m=\u001b[0m \u001b[0mie\u001b[0m\u001b[0;34m.\u001b[0m\u001b[0mextract\u001b[0m\u001b[0;34m(\u001b[0m\u001b[0murl\u001b[0m\u001b[0;34m)\u001b[0m\u001b[0;34m\u001b[0m\u001b[0m\n\u001b[0m\u001b[1;32m    793\u001b[0m                 \u001b[0;32mif\u001b[0m \u001b[0mie_result\u001b[0m \u001b[0;32mis\u001b[0m \u001b[0;32mNone\u001b[0m\u001b[0;34m:\u001b[0m  \u001b[0;31m# Finished already (backwards compatibility; listformats and friends should be moved here)\u001b[0m\u001b[0;34m\u001b[0m\u001b[0m\n",
      "\u001b[0;32m~/bin/anaconda3/lib/python3.6/site-packages/youtube_dl/extractor/common.py\u001b[0m in \u001b[0;36mextract\u001b[0;34m(self, url)\u001b[0m\n\u001b[1;32m    507\u001b[0m                     \u001b[0mself\u001b[0m\u001b[0;34m.\u001b[0m\u001b[0minitialize\u001b[0m\u001b[0;34m(\u001b[0m\u001b[0;34m)\u001b[0m\u001b[0;34m\u001b[0m\u001b[0m\n\u001b[0;32m--> 508\u001b[0;31m                     \u001b[0mie_result\u001b[0m \u001b[0;34m=\u001b[0m \u001b[0mself\u001b[0m\u001b[0;34m.\u001b[0m\u001b[0m_real_extract\u001b[0m\u001b[0;34m(\u001b[0m\u001b[0murl\u001b[0m\u001b[0;34m)\u001b[0m\u001b[0;34m\u001b[0m\u001b[0m\n\u001b[0m\u001b[1;32m    509\u001b[0m                     \u001b[0;32mif\u001b[0m \u001b[0mself\u001b[0m\u001b[0;34m.\u001b[0m\u001b[0m_x_forwarded_for_ip\u001b[0m\u001b[0;34m:\u001b[0m\u001b[0;34m\u001b[0m\u001b[0m\n",
      "\u001b[0;32m~/bin/anaconda3/lib/python3.6/site-packages/youtube_dl/extractor/youtube.py\u001b[0m in \u001b[0;36m_real_extract\u001b[0;34m(self, url)\u001b[0m\n\u001b[1;32m   1919\u001b[0m             \u001b[0;32mif\u001b[0m \u001b[0merror_message\u001b[0m\u001b[0;34m:\u001b[0m\u001b[0;34m\u001b[0m\u001b[0m\n\u001b[0;32m-> 1920\u001b[0;31m                 \u001b[0;32mraise\u001b[0m \u001b[0mExtractorError\u001b[0m\u001b[0;34m(\u001b[0m\u001b[0merror_message\u001b[0m\u001b[0;34m,\u001b[0m \u001b[0mexpected\u001b[0m\u001b[0;34m=\u001b[0m\u001b[0;32mTrue\u001b[0m\u001b[0;34m)\u001b[0m\u001b[0;34m\u001b[0m\u001b[0m\n\u001b[0m\u001b[1;32m   1921\u001b[0m             \u001b[0;32mraise\u001b[0m \u001b[0mExtractorError\u001b[0m\u001b[0;34m(\u001b[0m\u001b[0;34m'no conn, hlsvp or url_encoded_fmt_stream_map information found in video info'\u001b[0m\u001b[0;34m)\u001b[0m\u001b[0;34m\u001b[0m\u001b[0m\n",
      "\u001b[0;31mExtractorError\u001b[0m: \"KTR Awesome Speech on BAN...\" The YouTube account associated with this video has been terminated due to multiple third-party notifications of copyright infringement.",
      "\nDuring handling of the above exception, another exception occurred:\n",
      "\u001b[0;31mDownloadError\u001b[0m                             Traceback (most recent call last)",
      "\u001b[0;32m<ipython-input-130-19e5ea16bf59>\u001b[0m in \u001b[0;36m<module>\u001b[0;34m()\u001b[0m\n\u001b[1;32m      2\u001b[0m     \u001b[0mvidId\u001b[0m \u001b[0;34m=\u001b[0m \u001b[0mdf_male\u001b[0m\u001b[0;34m.\u001b[0m\u001b[0mloc\u001b[0m\u001b[0;34m[\u001b[0m\u001b[0mi\u001b[0m\u001b[0;34m,\u001b[0m\u001b[0;34m\"# YTID\"\u001b[0m\u001b[0;34m]\u001b[0m\u001b[0;34m\u001b[0m\u001b[0m\n\u001b[1;32m      3\u001b[0m     \u001b[0mlink\u001b[0m \u001b[0;34m=\u001b[0m \u001b[0;34m\"https://www.youtube.com/watch?v=\"\u001b[0m\u001b[0;34m+\u001b[0m\u001b[0mvidId\u001b[0m\u001b[0;34m\u001b[0m\u001b[0m\n\u001b[0;32m----> 4\u001b[0;31m     \u001b[0mydl\u001b[0m\u001b[0;34m.\u001b[0m\u001b[0mdownload\u001b[0m\u001b[0;34m(\u001b[0m\u001b[0;34m[\u001b[0m\u001b[0mlink\u001b[0m\u001b[0;34m]\u001b[0m\u001b[0;34m)\u001b[0m\u001b[0;34m\u001b[0m\u001b[0m\n\u001b[0m\u001b[1;32m      5\u001b[0m     \u001b[0mstart\u001b[0m \u001b[0;34m=\u001b[0m \u001b[0mdf_male\u001b[0m\u001b[0;34m.\u001b[0m\u001b[0mloc\u001b[0m\u001b[0;34m[\u001b[0m\u001b[0mi\u001b[0m\u001b[0;34m,\u001b[0m\u001b[0;34m\"start_seconds\"\u001b[0m\u001b[0;34m]\u001b[0m\u001b[0;34m\u001b[0m\u001b[0m\n\u001b[1;32m      6\u001b[0m     \u001b[0mtotal\u001b[0m \u001b[0;34m=\u001b[0m \u001b[0mdf_male\u001b[0m\u001b[0;34m.\u001b[0m\u001b[0mloc\u001b[0m\u001b[0;34m[\u001b[0m\u001b[0mi\u001b[0m\u001b[0;34m,\u001b[0m\u001b[0;34m\"end_seconds\"\u001b[0m\u001b[0;34m]\u001b[0m \u001b[0;34m-\u001b[0m\u001b[0mdf_male\u001b[0m\u001b[0;34m.\u001b[0m\u001b[0mloc\u001b[0m\u001b[0;34m[\u001b[0m\u001b[0mi\u001b[0m\u001b[0;34m,\u001b[0m\u001b[0;34m\"start_seconds\"\u001b[0m\u001b[0;34m]\u001b[0m\u001b[0;34m\u001b[0m\u001b[0m\n",
      "\u001b[0;32m~/bin/anaconda3/lib/python3.6/site-packages/youtube_dl/YoutubeDL.py\u001b[0m in \u001b[0;36mdownload\u001b[0;34m(self, url_list)\u001b[0m\n\u001b[1;32m   1999\u001b[0m                 \u001b[0;31m# It also downloads the videos\u001b[0m\u001b[0;34m\u001b[0m\u001b[0;34m\u001b[0m\u001b[0m\n\u001b[1;32m   2000\u001b[0m                 res = self.extract_info(\n\u001b[0;32m-> 2001\u001b[0;31m                     url, force_generic_extractor=self.params.get('force_generic_extractor', False))\n\u001b[0m\u001b[1;32m   2002\u001b[0m             \u001b[0;32mexcept\u001b[0m \u001b[0mUnavailableVideoError\u001b[0m\u001b[0;34m:\u001b[0m\u001b[0;34m\u001b[0m\u001b[0m\n\u001b[1;32m   2003\u001b[0m                 \u001b[0mself\u001b[0m\u001b[0;34m.\u001b[0m\u001b[0mreport_error\u001b[0m\u001b[0;34m(\u001b[0m\u001b[0;34m'unable to download video'\u001b[0m\u001b[0;34m)\u001b[0m\u001b[0;34m\u001b[0m\u001b[0m\n",
      "\u001b[0;32m~/bin/anaconda3/lib/python3.6/site-packages/youtube_dl/YoutubeDL.py\u001b[0m in \u001b[0;36mextract_info\u001b[0;34m(self, url, download, ie_key, extra_info, process, force_generic_extractor)\u001b[0m\n\u001b[1;32m    813\u001b[0m                 \u001b[0;32mbreak\u001b[0m\u001b[0;34m\u001b[0m\u001b[0m\n\u001b[1;32m    814\u001b[0m             \u001b[0;32mexcept\u001b[0m \u001b[0mExtractorError\u001b[0m \u001b[0;32mas\u001b[0m \u001b[0me\u001b[0m\u001b[0;34m:\u001b[0m  \u001b[0;31m# An error we somewhat expected\u001b[0m\u001b[0;34m\u001b[0m\u001b[0m\n\u001b[0;32m--> 815\u001b[0;31m                 \u001b[0mself\u001b[0m\u001b[0;34m.\u001b[0m\u001b[0mreport_error\u001b[0m\u001b[0;34m(\u001b[0m\u001b[0mcompat_str\u001b[0m\u001b[0;34m(\u001b[0m\u001b[0me\u001b[0m\u001b[0;34m)\u001b[0m\u001b[0;34m,\u001b[0m \u001b[0me\u001b[0m\u001b[0;34m.\u001b[0m\u001b[0mformat_traceback\u001b[0m\u001b[0;34m(\u001b[0m\u001b[0;34m)\u001b[0m\u001b[0;34m)\u001b[0m\u001b[0;34m\u001b[0m\u001b[0m\n\u001b[0m\u001b[1;32m    816\u001b[0m                 \u001b[0;32mbreak\u001b[0m\u001b[0;34m\u001b[0m\u001b[0m\n\u001b[1;32m    817\u001b[0m             \u001b[0;32mexcept\u001b[0m \u001b[0mMaxDownloadsReached\u001b[0m\u001b[0;34m:\u001b[0m\u001b[0;34m\u001b[0m\u001b[0m\n",
      "\u001b[0;32m~/bin/anaconda3/lib/python3.6/site-packages/youtube_dl/YoutubeDL.py\u001b[0m in \u001b[0;36mreport_error\u001b[0;34m(self, message, tb)\u001b[0m\n\u001b[1;32m    618\u001b[0m             \u001b[0m_msg_header\u001b[0m \u001b[0;34m=\u001b[0m \u001b[0;34m'ERROR:'\u001b[0m\u001b[0;34m\u001b[0m\u001b[0m\n\u001b[1;32m    619\u001b[0m         \u001b[0merror_message\u001b[0m \u001b[0;34m=\u001b[0m \u001b[0;34m'%s %s'\u001b[0m \u001b[0;34m%\u001b[0m \u001b[0;34m(\u001b[0m\u001b[0m_msg_header\u001b[0m\u001b[0;34m,\u001b[0m \u001b[0mmessage\u001b[0m\u001b[0;34m)\u001b[0m\u001b[0;34m\u001b[0m\u001b[0m\n\u001b[0;32m--> 620\u001b[0;31m         \u001b[0mself\u001b[0m\u001b[0;34m.\u001b[0m\u001b[0mtrouble\u001b[0m\u001b[0;34m(\u001b[0m\u001b[0merror_message\u001b[0m\u001b[0;34m,\u001b[0m \u001b[0mtb\u001b[0m\u001b[0;34m)\u001b[0m\u001b[0;34m\u001b[0m\u001b[0m\n\u001b[0m\u001b[1;32m    621\u001b[0m \u001b[0;34m\u001b[0m\u001b[0m\n\u001b[1;32m    622\u001b[0m     \u001b[0;32mdef\u001b[0m \u001b[0mreport_file_already_downloaded\u001b[0m\u001b[0;34m(\u001b[0m\u001b[0mself\u001b[0m\u001b[0;34m,\u001b[0m \u001b[0mfile_name\u001b[0m\u001b[0;34m)\u001b[0m\u001b[0;34m:\u001b[0m\u001b[0;34m\u001b[0m\u001b[0m\n",
      "\u001b[0;32m~/bin/anaconda3/lib/python3.6/site-packages/youtube_dl/YoutubeDL.py\u001b[0m in \u001b[0;36mtrouble\u001b[0;34m(self, message, tb)\u001b[0m\n\u001b[1;32m    588\u001b[0m             \u001b[0;32melse\u001b[0m\u001b[0;34m:\u001b[0m\u001b[0;34m\u001b[0m\u001b[0m\n\u001b[1;32m    589\u001b[0m                 \u001b[0mexc_info\u001b[0m \u001b[0;34m=\u001b[0m \u001b[0msys\u001b[0m\u001b[0;34m.\u001b[0m\u001b[0mexc_info\u001b[0m\u001b[0;34m(\u001b[0m\u001b[0;34m)\u001b[0m\u001b[0;34m\u001b[0m\u001b[0m\n\u001b[0;32m--> 590\u001b[0;31m             \u001b[0;32mraise\u001b[0m \u001b[0mDownloadError\u001b[0m\u001b[0;34m(\u001b[0m\u001b[0mmessage\u001b[0m\u001b[0;34m,\u001b[0m \u001b[0mexc_info\u001b[0m\u001b[0;34m)\u001b[0m\u001b[0;34m\u001b[0m\u001b[0m\n\u001b[0m\u001b[1;32m    591\u001b[0m         \u001b[0mself\u001b[0m\u001b[0;34m.\u001b[0m\u001b[0m_download_retcode\u001b[0m \u001b[0;34m=\u001b[0m \u001b[0;36m1\u001b[0m\u001b[0;34m\u001b[0m\u001b[0m\n\u001b[1;32m    592\u001b[0m \u001b[0;34m\u001b[0m\u001b[0m\n",
      "\u001b[0;31mDownloadError\u001b[0m: ERROR: \"KTR Awesome Speech on BAN...\" The YouTube account associated with this video has been terminated due to multiple third-party notifications of copyright infringement."
     ]
    }
   ],
   "source": [
    "for i in df_male.index:\n",
    "    vidId = df_male.loc[i,\"# YTID\"]\n",
    "    link = \"https://www.youtube.com/watch?v=\"+vidId\n",
    "    ydl.download([link])\n",
    "    start = df_male.loc[i,\"start_seconds\"]\n",
    "    total = df_male.loc[i,\"end_seconds\"] -df_male.loc[i,\"start_seconds\"]\n",
    "    print(\"ffmpeg -ss {} -t {} -i converter/output.wav {}\".format(start,total,\"youtube8m/\"+vidId+\".wav\")\n",
    "    os.system(\"ffmpeg -ss {} -t {} -i converter/output.wav {}\".format(start,total,\"youtube8m/\"+vidId+\".wav\"))"
   ]
  },
  {
   "cell_type": "code",
   "execution_count": null,
   "metadata": {},
   "outputs": [],
   "source": []
  },
  {
   "cell_type": "code",
   "execution_count": 52,
   "metadata": {},
   "outputs": [
    {
     "data": {
      "text/plain": [
       "0"
      ]
     },
     "execution_count": 52,
     "metadata": {},
     "output_type": "execute_result"
    }
   ],
   "source": [
    "\n",
    "os.system(\"ffmpeg -ss 10 -t 6 -i a.wav b.wav\")"
   ]
  },
  {
   "cell_type": "code",
   "execution_count": null,
   "metadata": {},
   "outputs": [],
   "source": []
  }
 ],
 "metadata": {
  "kernelspec": {
   "display_name": "Python (gesture)",
   "language": "python",
   "name": "gesture"
  },
  "language_info": {
   "codemirror_mode": {
    "name": "ipython",
    "version": 3
   },
   "file_extension": ".py",
   "mimetype": "text/x-python",
   "name": "python",
   "nbconvert_exporter": "python",
   "pygments_lexer": "ipython3",
   "version": "3.6.5"
  }
 },
 "nbformat": 4,
 "nbformat_minor": 2
}
