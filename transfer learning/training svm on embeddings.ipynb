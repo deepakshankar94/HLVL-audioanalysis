{
 "cells": [
  {
   "cell_type": "code",
   "execution_count": 1,
   "metadata": {},
   "outputs": [
    {
     "name": "stderr",
     "output_type": "stream",
     "text": [
      "/home/roxor/bin/anaconda3/lib/python3.6/site-packages/h5py/__init__.py:36: FutureWarning: Conversion of the second argument of issubdtype from `float` to `np.floating` is deprecated. In future, it will be treated as `np.float64 == np.dtype(float).type`.\n",
      "  from ._conv import register_converters as _register_converters\n"
     ]
    }
   ],
   "source": [
    "import vggish_slim\n",
    "import vggish_params\n",
    "import vggish_input_modified\n",
    "import vggish_postprocess\n",
    "import numpy as np\n",
    "from scipy.io import wavfile\n",
    "import pandas as pd\n",
    "from sklearn.model_selection import train_test_split\n",
    "from sklearn.decomposition import PCA\n",
    "from sklearn.neighbors import KNeighborsClassifier\n",
    "import scipy"
   ]
  },
  {
   "cell_type": "code",
   "execution_count": 2,
   "metadata": {},
   "outputs": [],
   "source": [
    "\n",
    "def CreateVGGishNetwork(hop_size=0.96):   # Hop size is in seconds.\n",
    "  \"\"\"Define VGGish model, load the checkpoint, and return a dictionary that points\n",
    "  to the different tensors defined by the model.\n",
    "  \"\"\"\n",
    "  vggish_slim.define_vggish_slim()\n",
    "  checkpoint_path = 'vggish_model.ckpt'\n",
    "  vggish_params.EXAMPLE_HOP_SECONDS = hop_size\n",
    "  \n",
    "  vggish_slim.load_vggish_slim_checkpoint(sess, checkpoint_path)\n",
    "\n",
    "  features_tensor = sess.graph.get_tensor_by_name(\n",
    "      vggish_params.INPUT_TENSOR_NAME)\n",
    "  embedding_tensor = sess.graph.get_tensor_by_name(\n",
    "      vggish_params.OUTPUT_TENSOR_NAME)\n",
    "\n",
    "  layers = {'conv1': 'vggish/conv1/Relu',\n",
    "            'pool1': 'vggish/pool1/MaxPool',\n",
    "            'conv2': 'vggish/conv2/Relu',\n",
    "            'pool2': 'vggish/pool2/MaxPool',\n",
    "            'conv3': 'vggish/conv3/conv3_2/Relu',\n",
    "            'pool3': 'vggish/pool3/MaxPool',\n",
    "            'conv4': 'vggish/conv4/conv4_2/Relu',\n",
    "            'pool4': 'vggish/pool4/MaxPool',\n",
    "            'fc1': 'vggish/fc1/fc1_2/Relu',\n",
    "            'fc2': 'vggish/fc2/Relu',\n",
    "            'embedding': 'vggish/embedding',\n",
    "            'features': 'vggish/input_features',\n",
    "         }\n",
    "  g = tf.get_default_graph()\n",
    "  for k in layers:\n",
    "    layers[k] = g.get_tensor_by_name( layers[k] + ':0')\n",
    "    \n",
    "  return {'features': features_tensor,\n",
    "          'embedding': embedding_tensor,\n",
    "          'layers': layers,\n",
    "         }"
   ]
  },
  {
   "cell_type": "code",
   "execution_count": 3,
   "metadata": {},
   "outputs": [],
   "source": [
    "def ProcessWithVGGish(vgg, x, sr,hop_length):\n",
    "  '''Run the VGGish model, starting with a sound (x) at sample rate\n",
    "  (sr). Return a whitened version of the embeddings. Sound must be scaled to be\n",
    "  floats between -1 and +1.'''\n",
    "\n",
    "  # Produce a batch of log mel spectrogram examples.\n",
    "  input_batch = vggish_input_modified.waveform_to_examples(wav_data, sr,hop_length)\n",
    "  # print('Log Mel Spectrogram example: ', input_batch[0])\n",
    "\n",
    "  [embedding_batch] = sess.run([vgg['embedding']],\n",
    "                               feed_dict={vgg['features']: input_batch})\n",
    "  return embedding_batch\n",
    "  # Postprocess the results to produce whitened quantized embeddings.\n",
    "  pca_params_path = 'vggish_pca_params.npz'\n",
    "\n",
    "  pproc = vggish_postprocess.Postprocessor(pca_params_path)\n",
    "  postprocessed_batch = pproc.postprocess(embedding_batch)\n",
    "  # print('Postprocessed VGGish embedding: ', postprocessed_batch[0])\n",
    "  return postprocessed_batch[0]\n"
   ]
  },
  {
   "cell_type": "code",
   "execution_count": 4,
   "metadata": {},
   "outputs": [
    {
     "name": "stdout",
     "output_type": "stream",
     "text": [
      "INFO:tensorflow:Restoring parameters from vggish_model.ckpt\n"
     ]
    }
   ],
   "source": [
    "import tensorflow as tf\n",
    "tf.reset_default_graph()\n",
    "sess = tf.Session()\n",
    "\n",
    "vgg = CreateVGGishNetwork()"
   ]
  },
  {
   "cell_type": "code",
   "execution_count": 5,
   "metadata": {},
   "outputs": [],
   "source": [
    "\n",
    "sr, wav_data = wavfile.read(\"1.wav\")\n",
    "assert wav_data.dtype == np.int16, 'Bad sample type: %r' % wav_data.dtype\n",
    "samples = wav_data / 32768.0  # Convert to [-1.0, +1.0]"
   ]
  },
  {
   "cell_type": "code",
   "execution_count": 6,
   "metadata": {},
   "outputs": [],
   "source": [
    "values = ProcessWithVGGish(vgg,samples,sr,1)"
   ]
  },
  {
   "cell_type": "code",
   "execution_count": 7,
   "metadata": {},
   "outputs": [],
   "source": [
    "df = pd.read_csv(\"../data/created_csv/bi.csv\")"
   ]
  },
  {
   "cell_type": "code",
   "execution_count": 8,
   "metadata": {},
   "outputs": [
    {
     "data": {
      "text/html": [
       "<div>\n",
       "<style scoped>\n",
       "    .dataframe tbody tr th:only-of-type {\n",
       "        vertical-align: middle;\n",
       "    }\n",
       "\n",
       "    .dataframe tbody tr th {\n",
       "        vertical-align: top;\n",
       "    }\n",
       "\n",
       "    .dataframe thead th {\n",
       "        text-align: right;\n",
       "    }\n",
       "</style>\n",
       "<table border=\"1\" class=\"dataframe\">\n",
       "  <thead>\n",
       "    <tr style=\"text-align: right;\">\n",
       "      <th></th>\n",
       "      <th>start_timestamp</th>\n",
       "      <th>end_timestamp</th>\n",
       "      <th>Gesture</th>\n",
       "      <th>Unnamed: 3</th>\n",
       "    </tr>\n",
       "  </thead>\n",
       "  <tbody>\n",
       "    <tr>\n",
       "      <th>0</th>\n",
       "      <td>0</td>\n",
       "      <td>1</td>\n",
       "      <td>beats</td>\n",
       "      <td>NaN</td>\n",
       "    </tr>\n",
       "    <tr>\n",
       "      <th>1</th>\n",
       "      <td>1</td>\n",
       "      <td>2</td>\n",
       "      <td>NaN</td>\n",
       "      <td>NaN</td>\n",
       "    </tr>\n",
       "    <tr>\n",
       "      <th>2</th>\n",
       "      <td>2</td>\n",
       "      <td>3</td>\n",
       "      <td>NaN</td>\n",
       "      <td>NaN</td>\n",
       "    </tr>\n",
       "    <tr>\n",
       "      <th>3</th>\n",
       "      <td>3</td>\n",
       "      <td>4</td>\n",
       "      <td>beats</td>\n",
       "      <td>NaN</td>\n",
       "    </tr>\n",
       "    <tr>\n",
       "      <th>4</th>\n",
       "      <td>4</td>\n",
       "      <td>5</td>\n",
       "      <td>NaN</td>\n",
       "      <td>NaN</td>\n",
       "    </tr>\n",
       "  </tbody>\n",
       "</table>\n",
       "</div>"
      ],
      "text/plain": [
       "   start_timestamp  end_timestamp Gesture Unnamed: 3\n",
       "0                0              1   beats        NaN\n",
       "1                1              2     NaN        NaN\n",
       "2                2              3     NaN        NaN\n",
       "3                3              4   beats        NaN\n",
       "4                4              5     NaN        NaN"
      ]
     },
     "execution_count": 8,
     "metadata": {},
     "output_type": "execute_result"
    }
   ],
   "source": [
    "df.head()"
   ]
  },
  {
   "cell_type": "code",
   "execution_count": 9,
   "metadata": {},
   "outputs": [],
   "source": [
    "gesture_detected = df[\"Gesture\"].apply(lambda x: int(isinstance(x,str)))"
   ]
  },
  {
   "cell_type": "code",
   "execution_count": 10,
   "metadata": {},
   "outputs": [],
   "source": [
    "df = df.assign(gesture_detected=gesture_detected)"
   ]
  },
  {
   "cell_type": "code",
   "execution_count": 36,
   "metadata": {},
   "outputs": [],
   "source": [
    "df_final = df[[\"end_timestamp\",\"gesture_detected\"]]"
   ]
  },
  {
   "cell_type": "code",
   "execution_count": 40,
   "metadata": {},
   "outputs": [
    {
     "data": {
      "text/html": [
       "<div>\n",
       "<style scoped>\n",
       "    .dataframe tbody tr th:only-of-type {\n",
       "        vertical-align: middle;\n",
       "    }\n",
       "\n",
       "    .dataframe tbody tr th {\n",
       "        vertical-align: top;\n",
       "    }\n",
       "\n",
       "    .dataframe thead th {\n",
       "        text-align: right;\n",
       "    }\n",
       "</style>\n",
       "<table border=\"1\" class=\"dataframe\">\n",
       "  <thead>\n",
       "    <tr style=\"text-align: right;\">\n",
       "      <th></th>\n",
       "      <th>end_timestamp</th>\n",
       "      <th>gesture_detected</th>\n",
       "      <th>feature0</th>\n",
       "      <th>feature1</th>\n",
       "      <th>feature2</th>\n",
       "      <th>feature3</th>\n",
       "      <th>feature4</th>\n",
       "      <th>feature5</th>\n",
       "      <th>feature6</th>\n",
       "      <th>feature7</th>\n",
       "      <th>...</th>\n",
       "      <th>feature118</th>\n",
       "      <th>feature119</th>\n",
       "      <th>feature120</th>\n",
       "      <th>feature121</th>\n",
       "      <th>feature122</th>\n",
       "      <th>feature123</th>\n",
       "      <th>feature124</th>\n",
       "      <th>feature125</th>\n",
       "      <th>feature126</th>\n",
       "      <th>feature127</th>\n",
       "    </tr>\n",
       "  </thead>\n",
       "  <tbody>\n",
       "    <tr>\n",
       "      <th>0</th>\n",
       "      <td>1</td>\n",
       "      <td>1</td>\n",
       "      <td>0.0</td>\n",
       "      <td>0.000000</td>\n",
       "      <td>0.473912</td>\n",
       "      <td>0.0</td>\n",
       "      <td>0.0</td>\n",
       "      <td>0.0</td>\n",
       "      <td>0.000000</td>\n",
       "      <td>0.000000</td>\n",
       "      <td>...</td>\n",
       "      <td>0.0</td>\n",
       "      <td>0.0</td>\n",
       "      <td>0.000000</td>\n",
       "      <td>0.0</td>\n",
       "      <td>0.0</td>\n",
       "      <td>0.05154</td>\n",
       "      <td>0.195061</td>\n",
       "      <td>0.0</td>\n",
       "      <td>0.000000</td>\n",
       "      <td>0.057337</td>\n",
       "    </tr>\n",
       "    <tr>\n",
       "      <th>1</th>\n",
       "      <td>2</td>\n",
       "      <td>0</td>\n",
       "      <td>0.0</td>\n",
       "      <td>0.090621</td>\n",
       "      <td>0.609878</td>\n",
       "      <td>0.0</td>\n",
       "      <td>0.0</td>\n",
       "      <td>0.0</td>\n",
       "      <td>0.618379</td>\n",
       "      <td>0.633474</td>\n",
       "      <td>...</td>\n",
       "      <td>0.0</td>\n",
       "      <td>0.0</td>\n",
       "      <td>0.164849</td>\n",
       "      <td>0.0</td>\n",
       "      <td>0.0</td>\n",
       "      <td>0.00000</td>\n",
       "      <td>0.080482</td>\n",
       "      <td>0.0</td>\n",
       "      <td>0.118717</td>\n",
       "      <td>0.133484</td>\n",
       "    </tr>\n",
       "    <tr>\n",
       "      <th>2</th>\n",
       "      <td>3</td>\n",
       "      <td>0</td>\n",
       "      <td>0.0</td>\n",
       "      <td>0.000000</td>\n",
       "      <td>0.525054</td>\n",
       "      <td>0.0</td>\n",
       "      <td>0.0</td>\n",
       "      <td>0.0</td>\n",
       "      <td>0.230554</td>\n",
       "      <td>0.016512</td>\n",
       "      <td>...</td>\n",
       "      <td>0.0</td>\n",
       "      <td>0.0</td>\n",
       "      <td>0.000000</td>\n",
       "      <td>0.0</td>\n",
       "      <td>0.0</td>\n",
       "      <td>0.00000</td>\n",
       "      <td>0.258882</td>\n",
       "      <td>0.0</td>\n",
       "      <td>0.195438</td>\n",
       "      <td>0.000000</td>\n",
       "    </tr>\n",
       "    <tr>\n",
       "      <th>3</th>\n",
       "      <td>4</td>\n",
       "      <td>1</td>\n",
       "      <td>0.0</td>\n",
       "      <td>0.000000</td>\n",
       "      <td>0.634765</td>\n",
       "      <td>0.0</td>\n",
       "      <td>0.0</td>\n",
       "      <td>0.0</td>\n",
       "      <td>0.299442</td>\n",
       "      <td>0.270102</td>\n",
       "      <td>...</td>\n",
       "      <td>0.0</td>\n",
       "      <td>0.0</td>\n",
       "      <td>0.145458</td>\n",
       "      <td>0.0</td>\n",
       "      <td>0.0</td>\n",
       "      <td>0.00000</td>\n",
       "      <td>0.159751</td>\n",
       "      <td>0.0</td>\n",
       "      <td>0.273586</td>\n",
       "      <td>0.000000</td>\n",
       "    </tr>\n",
       "    <tr>\n",
       "      <th>4</th>\n",
       "      <td>5</td>\n",
       "      <td>0</td>\n",
       "      <td>0.0</td>\n",
       "      <td>0.009879</td>\n",
       "      <td>0.727963</td>\n",
       "      <td>0.0</td>\n",
       "      <td>0.0</td>\n",
       "      <td>0.0</td>\n",
       "      <td>0.590635</td>\n",
       "      <td>0.112120</td>\n",
       "      <td>...</td>\n",
       "      <td>0.0</td>\n",
       "      <td>0.0</td>\n",
       "      <td>0.176967</td>\n",
       "      <td>0.0</td>\n",
       "      <td>0.0</td>\n",
       "      <td>0.00000</td>\n",
       "      <td>0.378840</td>\n",
       "      <td>0.0</td>\n",
       "      <td>0.677480</td>\n",
       "      <td>0.000000</td>\n",
       "    </tr>\n",
       "  </tbody>\n",
       "</table>\n",
       "<p>5 rows × 130 columns</p>\n",
       "</div>"
      ],
      "text/plain": [
       "   end_timestamp  gesture_detected  feature0  feature1  feature2  feature3  \\\n",
       "0              1                 1       0.0  0.000000  0.473912       0.0   \n",
       "1              2                 0       0.0  0.090621  0.609878       0.0   \n",
       "2              3                 0       0.0  0.000000  0.525054       0.0   \n",
       "3              4                 1       0.0  0.000000  0.634765       0.0   \n",
       "4              5                 0       0.0  0.009879  0.727963       0.0   \n",
       "\n",
       "   feature4  feature5  feature6  feature7     ...      feature118  feature119  \\\n",
       "0       0.0       0.0  0.000000  0.000000     ...             0.0         0.0   \n",
       "1       0.0       0.0  0.618379  0.633474     ...             0.0         0.0   \n",
       "2       0.0       0.0  0.230554  0.016512     ...             0.0         0.0   \n",
       "3       0.0       0.0  0.299442  0.270102     ...             0.0         0.0   \n",
       "4       0.0       0.0  0.590635  0.112120     ...             0.0         0.0   \n",
       "\n",
       "   feature120  feature121  feature122  feature123  feature124  feature125  \\\n",
       "0    0.000000         0.0         0.0     0.05154    0.195061         0.0   \n",
       "1    0.164849         0.0         0.0     0.00000    0.080482         0.0   \n",
       "2    0.000000         0.0         0.0     0.00000    0.258882         0.0   \n",
       "3    0.145458         0.0         0.0     0.00000    0.159751         0.0   \n",
       "4    0.176967         0.0         0.0     0.00000    0.378840         0.0   \n",
       "\n",
       "   feature126  feature127  \n",
       "0    0.000000    0.057337  \n",
       "1    0.118717    0.133484  \n",
       "2    0.195438    0.000000  \n",
       "3    0.273586    0.000000  \n",
       "4    0.677480    0.000000  \n",
       "\n",
       "[5 rows x 130 columns]"
      ]
     },
     "execution_count": 40,
     "metadata": {},
     "output_type": "execute_result"
    }
   ],
   "source": [
    "df_final.head()"
   ]
  },
  {
   "cell_type": "code",
   "execution_count": 37,
   "metadata": {},
   "outputs": [],
   "source": [
    "features = []\n",
    "for number in range(128):\n",
    "    features.append(\"feature\"+str(number))"
   ]
  },
  {
   "cell_type": "code",
   "execution_count": 38,
   "metadata": {},
   "outputs": [],
   "source": [
    "df_final = pd.concat([df_final,pd.DataFrame(values,columns=features)],axis=1)"
   ]
  },
  {
   "cell_type": "code",
   "execution_count": 39,
   "metadata": {},
   "outputs": [],
   "source": [
    "X= df_final[features]\n",
    "y = df[\"gesture_detected\"]"
   ]
  },
  {
   "cell_type": "code",
   "execution_count": 116,
   "metadata": {},
   "outputs": [],
   "source": [
    "train_X,test_X,train_y,test_y=train_test_split(X,y)"
   ]
  },
  {
   "cell_type": "code",
   "execution_count": 117,
   "metadata": {},
   "outputs": [],
   "source": [
    "from sklearn.svm import SVC\n",
    "from sklearn.feature_selection import RFE\n",
    "from sklearn.linear_model import LogisticRegression"
   ]
  },
  {
   "cell_type": "markdown",
   "metadata": {},
   "source": [
    "## try logistic regression"
   ]
  },
  {
   "cell_type": "code",
   "execution_count": 118,
   "metadata": {},
   "outputs": [
    {
     "name": "stdout",
     "output_type": "stream",
     "text": [
      "[False False False False False False False  True False False False False\n",
      " False False False  True False False False  True False False False False\n",
      " False  True False  True False False False False False  True False False\n",
      " False False False False False False  True False  True False False  True\n",
      " False  True False False False False False False False False False False\n",
      " False False False False False False False False False False  True False\n",
      "  True False False False False  True False False False  True False False\n",
      " False  True  True False False  True False False False  True  True  True\n",
      " False False False False False False False False False False False False\n",
      " False False False False False False False False False False False False\n",
      " False False False False False False False False]\n",
      "[109  59  37  76  73  71  20   1  70  82  23  28  89  35  50   1   3  42\n",
      "  96   1 100  38 103  44  10   1  24   1  26  63  41  15   2   1  14  33\n",
      "  22  90  92  13  66  77   1  80   1   7  19   1   8   1  34  79  67  91\n",
      "  40  45  58  49  53  18  64  61  29 107  54  78  74  27  75  68   1  52\n",
      "   1  65  43  17  93   1  83  47  95   1  32  97  51   1   1  57  55   1\n",
      "  99  60  25   1   1   1 101 108  16 106  98   9   6  30 102 104  11 105\n",
      "  36  94  87  39  69  12  84   5  62  46  88  86   4  72  85  56  31  81\n",
      "  48  21]\n"
     ]
    }
   ],
   "source": [
    "logreg = LogisticRegression()\n",
    "rfe = RFE(logreg, 20)\n",
    "rfe = rfe.fit(X, y)\n",
    "print(rfe.support_)\n",
    "print(rfe.ranking_)"
   ]
  },
  {
   "cell_type": "code",
   "execution_count": 119,
   "metadata": {},
   "outputs": [],
   "source": [
    "features = np.array(features)"
   ]
  },
  {
   "cell_type": "code",
   "execution_count": 120,
   "metadata": {},
   "outputs": [],
   "source": [
    "logistic_features = features[rfe.support_]"
   ]
  },
  {
   "cell_type": "markdown",
   "metadata": {},
   "source": [
    "## try with all features"
   ]
  },
  {
   "cell_type": "code",
   "execution_count": 121,
   "metadata": {},
   "outputs": [
    {
     "data": {
      "text/plain": [
       "LogisticRegression(C=1.0, class_weight=None, dual=False, fit_intercept=True,\n",
       "          intercept_scaling=1, max_iter=100, multi_class='ovr', n_jobs=1,\n",
       "          penalty='l2', random_state=None, solver='liblinear', tol=0.0001,\n",
       "          verbose=0, warm_start=False)"
      ]
     },
     "execution_count": 121,
     "metadata": {},
     "output_type": "execute_result"
    }
   ],
   "source": [
    "logreg = LogisticRegression()\n",
    "logreg.fit(train_X, train_y)"
   ]
  },
  {
   "cell_type": "code",
   "execution_count": 122,
   "metadata": {},
   "outputs": [],
   "source": [
    "pred_y = logreg.predict(test_X)"
   ]
  },
  {
   "cell_type": "code",
   "execution_count": 123,
   "metadata": {},
   "outputs": [
    {
     "name": "stdout",
     "output_type": "stream",
     "text": [
      "Accuracy of logistic regression classifier on test set: 0.45\n"
     ]
    }
   ],
   "source": [
    "print('Accuracy of logistic regression classifier on test set: {:.2f}'.format(logreg.score(test_X, test_y)))"
   ]
  },
  {
   "cell_type": "code",
   "execution_count": 124,
   "metadata": {},
   "outputs": [
    {
     "name": "stdout",
     "output_type": "stream",
     "text": [
      "[[21 15]\n",
      " [26 13]]\n"
     ]
    }
   ],
   "source": [
    "from sklearn.metrics import confusion_matrix\n",
    "confusion_mat = confusion_matrix(test_y, pred_y)\n",
    "print(confusion_mat)"
   ]
  },
  {
   "cell_type": "markdown",
   "metadata": {},
   "source": [
    "## try with selected features"
   ]
  },
  {
   "cell_type": "code",
   "execution_count": 125,
   "metadata": {},
   "outputs": [
    {
     "data": {
      "text/plain": [
       "LogisticRegression(C=1.0, class_weight=None, dual=False, fit_intercept=True,\n",
       "          intercept_scaling=1, max_iter=100, multi_class='ovr', n_jobs=1,\n",
       "          penalty='l2', random_state=None, solver='liblinear', tol=0.0001,\n",
       "          verbose=0, warm_start=False)"
      ]
     },
     "execution_count": 125,
     "metadata": {},
     "output_type": "execute_result"
    }
   ],
   "source": [
    "logreg = LogisticRegression()\n",
    "logreg.fit(train_X[logistic_features], train_y)"
   ]
  },
  {
   "cell_type": "code",
   "execution_count": 126,
   "metadata": {},
   "outputs": [],
   "source": [
    "pred_y = logreg.predict(test_X[logistic_features])"
   ]
  },
  {
   "cell_type": "code",
   "execution_count": 127,
   "metadata": {},
   "outputs": [
    {
     "name": "stdout",
     "output_type": "stream",
     "text": [
      "Accuracy of logistic regression classifier on test set: 0.53\n"
     ]
    }
   ],
   "source": [
    "print('Accuracy of logistic regression classifier on test set: {:.2f}'.format(logreg.score(test_X[logistic_features], test_y)))"
   ]
  },
  {
   "cell_type": "code",
   "execution_count": 128,
   "metadata": {},
   "outputs": [
    {
     "name": "stdout",
     "output_type": "stream",
     "text": [
      "[[28  8]\n",
      " [27 12]]\n"
     ]
    }
   ],
   "source": [
    "confusion_mat = confusion_matrix(test_y, pred_y)\n",
    "print(confusion_mat)"
   ]
  },
  {
   "cell_type": "markdown",
   "metadata": {},
   "source": [
    "## try svc with linear kernel"
   ]
  },
  {
   "cell_type": "code",
   "execution_count": 129,
   "metadata": {},
   "outputs": [
    {
     "data": {
      "text/plain": [
       "SVC(C=0.15, cache_size=200, class_weight=None, coef0=0.0,\n",
       "  decision_function_shape='ovr', degree=3, gamma='auto', kernel='linear',\n",
       "  max_iter=-1, probability=False, random_state=None, shrinking=True,\n",
       "  tol=0.001, verbose=False)"
      ]
     },
     "execution_count": 129,
     "metadata": {},
     "output_type": "execute_result"
    }
   ],
   "source": [
    "svmLinear = SVC(kernel=\"linear\", C=0.15)\n",
    "svmLinear.fit(train_X,train_y)"
   ]
  },
  {
   "cell_type": "code",
   "execution_count": 130,
   "metadata": {},
   "outputs": [],
   "source": [
    "pred_y = svmLinear.predict(test_X)"
   ]
  },
  {
   "cell_type": "code",
   "execution_count": 131,
   "metadata": {},
   "outputs": [
    {
     "name": "stdout",
     "output_type": "stream",
     "text": [
      "Accuracy of Linear SVM classifier on test set: 0.48\n"
     ]
    }
   ],
   "source": [
    "print('Accuracy of Linear SVM classifier on test set: {:.2f}'.format(svmLinear.score(test_X, test_y)))"
   ]
  },
  {
   "cell_type": "code",
   "execution_count": 132,
   "metadata": {},
   "outputs": [
    {
     "name": "stdout",
     "output_type": "stream",
     "text": [
      "[[36  0]\n",
      " [39  0]]\n"
     ]
    }
   ],
   "source": [
    "confusion_mat = confusion_matrix(test_y, pred_y)\n",
    "print(confusion_mat)"
   ]
  },
  {
   "cell_type": "markdown",
   "metadata": {},
   "source": [
    "## try with logit features"
   ]
  },
  {
   "cell_type": "code",
   "execution_count": 133,
   "metadata": {},
   "outputs": [
    {
     "data": {
      "text/plain": [
       "SVC(C=200, cache_size=200, class_weight=None, coef0=0.0,\n",
       "  decision_function_shape='ovr', degree=3, gamma='auto', kernel='linear',\n",
       "  max_iter=-1, probability=False, random_state=None, shrinking=True,\n",
       "  tol=0.001, verbose=False)"
      ]
     },
     "execution_count": 133,
     "metadata": {},
     "output_type": "execute_result"
    }
   ],
   "source": [
    "svmLinear = SVC(kernel=\"linear\", C=200)\n",
    "svmLinear.fit(train_X[logistic_features], train_y)"
   ]
  },
  {
   "cell_type": "code",
   "execution_count": 134,
   "metadata": {},
   "outputs": [],
   "source": [
    "pred_y = svmLinear.predict(test_X[logistic_features])"
   ]
  },
  {
   "cell_type": "code",
   "execution_count": 135,
   "metadata": {},
   "outputs": [
    {
     "name": "stdout",
     "output_type": "stream",
     "text": [
      "Accuracy of linear svm classifier on test set: 0.63\n"
     ]
    }
   ],
   "source": [
    "print('Accuracy of linear svm classifier on test set: {:.2f}'.format(svmLinear.score(test_X[logistic_features], test_y)))"
   ]
  },
  {
   "cell_type": "code",
   "execution_count": 136,
   "metadata": {},
   "outputs": [
    {
     "name": "stdout",
     "output_type": "stream",
     "text": [
      "[[26 10]\n",
      " [18 21]]\n"
     ]
    }
   ],
   "source": [
    "confusion_mat = confusion_matrix(test_y, pred_y)\n",
    "print(confusion_mat)"
   ]
  },
  {
   "cell_type": "code",
   "execution_count": 137,
   "metadata": {},
   "outputs": [],
   "source": [
    "from sklearn.model_selection import GridSearchCV\n",
    "from sklearn.model_selection import StratifiedShuffleSplit\n",
    "C_range = np.linspace(180,300, 100)\n",
    "param_grid = dict(C=C_range)\n",
    "cv = StratifiedShuffleSplit(n_splits=5, test_size=0.2, random_state=42)\n",
    "grid = GridSearchCV(svmLinear, param_grid=param_grid, cv=cv)"
   ]
  },
  {
   "cell_type": "code",
   "execution_count": null,
   "metadata": {},
   "outputs": [],
   "source": [
    "grid.fit(train_X[logistic_features], train_y)"
   ]
  },
  {
   "cell_type": "code",
   "execution_count": null,
   "metadata": {},
   "outputs": [],
   "source": [
    "grid.best_estimator_"
   ]
  },
  {
   "cell_type": "code",
   "execution_count": null,
   "metadata": {},
   "outputs": [],
   "source": [
    "pred_y = grid.predict(test_X[logistic_features])"
   ]
  },
  {
   "cell_type": "code",
   "execution_count": null,
   "metadata": {},
   "outputs": [],
   "source": [
    "print('Accuracy of linear SVM classifier on test set: {:.2f}'.format(grid.score(test_X[logistic_features], test_y)))"
   ]
  },
  {
   "cell_type": "code",
   "execution_count": 41,
   "metadata": {},
   "outputs": [
    {
     "name": "stdout",
     "output_type": "stream",
     "text": [
      "[[28 10]\n",
      " [23 14]]\n"
     ]
    }
   ],
   "source": [
    "confusion_mat = confusion_matrix(test_y, pred_y)\n",
    "print(confusion_mat)"
   ]
  },
  {
   "cell_type": "code",
   "execution_count": 42,
   "metadata": {},
   "outputs": [
    {
     "data": {
      "text/plain": [
       "Int64Index([132, 277, 293, 197, 181, 141,  50, 128, 184, 232, 116, 162,  66,\n",
       "            135, 290, 151, 236, 186,  65,  44,  71, 218, 122,  96, 297, 113,\n",
       "             53,  88, 110, 137,  91, 237,  33, 245,  36,  85,  46,  20,  87,\n",
       "             47,  28, 274, 129, 210, 269,  97, 159, 200,   7, 291, 225,  12,\n",
       "            133, 105, 213,   2, 194, 208,  57, 215,  95, 168, 189, 145, 247,\n",
       "             93,  86, 167, 150, 242, 121, 204, 165,  83, 198],\n",
       "           dtype='int64')"
      ]
     },
     "execution_count": 42,
     "metadata": {},
     "output_type": "execute_result"
    }
   ],
   "source": [
    "test_y.index"
   ]
  },
  {
   "cell_type": "code",
   "execution_count": 43,
   "metadata": {},
   "outputs": [
    {
     "ename": "ValueError",
     "evalue": "The truth value of an array with more than one element is ambiguous. Use a.any() or a.all()",
     "output_type": "error",
     "traceback": [
      "\u001b[0;31m---------------------------------------------------------------------------\u001b[0m",
      "\u001b[0;31mValueError\u001b[0m                                Traceback (most recent call last)",
      "\u001b[0;32m<ipython-input-43-7936f977caf9>\u001b[0m in \u001b[0;36m<module>\u001b[0;34m()\u001b[0m\n\u001b[0;32m----> 1\u001b[0;31m \u001b[0mpred_y\u001b[0m \u001b[0;34m==\u001b[0m\u001b[0;36m1\u001b[0m \u001b[0;32mand\u001b[0m \u001b[0mtest_y\u001b[0m \u001b[0;34m==\u001b[0m \u001b[0;36m1\u001b[0m \u001b[0;32mand\u001b[0m \u001b[0mpred_y\u001b[0m\u001b[0;34m==\u001b[0m\u001b[0mtest_y\u001b[0m\u001b[0;34m\u001b[0m\u001b[0m\n\u001b[0m",
      "\u001b[0;31mValueError\u001b[0m: The truth value of an array with more than one element is ambiguous. Use a.any() or a.all()"
     ]
    }
   ],
   "source": [
    "pred_y ==1 and test_y == 1 and pred_y==test_y"
   ]
  },
  {
   "cell_type": "code",
   "execution_count": 44,
   "metadata": {},
   "outputs": [],
   "source": [
    "correct_gestures_index = np.logical_and(pred_y ==1 , test_y == 1)"
   ]
  },
  {
   "cell_type": "code",
   "execution_count": 45,
   "metadata": {},
   "outputs": [],
   "source": [
    "incorrect_gestures_index = np.logical_and(pred_y ==0 , test_y == 1)"
   ]
  },
  {
   "cell_type": "code",
   "execution_count": 46,
   "metadata": {},
   "outputs": [],
   "source": [
    "correct_gestures = test_y.index[correct_gestures_index]"
   ]
  },
  {
   "cell_type": "code",
   "execution_count": 47,
   "metadata": {},
   "outputs": [],
   "source": [
    "incorrect_gestures = test_y.index[incorrect_gestures_index]"
   ]
  },
  {
   "cell_type": "code",
   "execution_count": null,
   "metadata": {},
   "outputs": [],
   "source": []
  },
  {
   "cell_type": "code",
   "execution_count": null,
   "metadata": {},
   "outputs": [],
   "source": []
  },
  {
   "cell_type": "code",
   "execution_count": 55,
   "metadata": {},
   "outputs": [
    {
     "data": {
      "text/plain": [
       "23"
      ]
     },
     "execution_count": 55,
     "metadata": {},
     "output_type": "execute_result"
    }
   ],
   "source": [
    "len(incorrect_prediction_indexes)"
   ]
  },
  {
   "cell_type": "code",
   "execution_count": null,
   "metadata": {},
   "outputs": [],
   "source": []
  },
  {
   "cell_type": "code",
   "execution_count": null,
   "metadata": {},
   "outputs": [],
   "source": []
  },
  {
   "cell_type": "markdown",
   "metadata": {},
   "source": [
    "## try SVM with rbf kernel"
   ]
  },
  {
   "cell_type": "code",
   "execution_count": 92,
   "metadata": {},
   "outputs": [],
   "source": [
    "svmrbf = SVC(gamma=2, C=1)"
   ]
  },
  {
   "cell_type": "markdown",
   "metadata": {},
   "source": [
    "perform grid search "
   ]
  },
  {
   "cell_type": "code",
   "execution_count": 93,
   "metadata": {},
   "outputs": [],
   "source": [
    "from sklearn.model_selection import GridSearchCV\n",
    "from sklearn.model_selection import StratifiedShuffleSplit\n",
    "C_range = np.linspace(20,22, 20)\n",
    "gamma_range = np.linspace(0.2, 0.3, 20)\n",
    "param_grid = dict(gamma=gamma_range, C=C_range)\n",
    "cv = StratifiedShuffleSplit(n_splits=5, test_size=0.2, random_state=42)\n",
    "grid = GridSearchCV(svmrbf, param_grid=param_grid, cv=cv)"
   ]
  },
  {
   "cell_type": "code",
   "execution_count": 94,
   "metadata": {},
   "outputs": [
    {
     "data": {
      "text/plain": [
       "GridSearchCV(cv=StratifiedShuffleSplit(n_splits=5, random_state=42, test_size=0.2,\n",
       "            train_size=None),\n",
       "       error_score='raise',\n",
       "       estimator=SVC(C=1, cache_size=200, class_weight=None, coef0=0.0,\n",
       "  decision_function_shape='ovr', degree=3, gamma=2, kernel='rbf',\n",
       "  max_iter=-1, probability=False, random_state=None, shrinking=True,\n",
       "  tol=0.001, verbose=False),\n",
       "       fit_params=None, iid=True, n_jobs=1,\n",
       "       param_grid={'gamma': array([0.2    , 0.20526, 0.21053, 0.21579, 0.22105, 0.22632, 0.23158,\n",
       "       0.23684, 0.24211, 0.24737, 0.25263, 0.25789, 0.26316, 0.26842,\n",
       "       0.27368, 0.27895, 0.28421, 0.28947, 0.29474, 0.3    ]), 'C': array([20.     , 20.10526, 20.21053, 20.31579, 20.42105, 20.52632,\n",
       "       20.63158, 20.73684, 20.84211, 20.94737, 21.05263, 21.15789,\n",
       "       21.26316, 21.36842, 21.47368, 21.57895, 21.68421, 21.78947,\n",
       "       21.89474, 22.     ])},\n",
       "       pre_dispatch='2*n_jobs', refit=True, return_train_score='warn',\n",
       "       scoring=None, verbose=0)"
      ]
     },
     "execution_count": 94,
     "metadata": {},
     "output_type": "execute_result"
    }
   ],
   "source": [
    "grid.fit(train_X, train_y)"
   ]
  },
  {
   "cell_type": "code",
   "execution_count": 95,
   "metadata": {},
   "outputs": [
    {
     "data": {
      "text/plain": [
       "SVC(C=20.210526315789473, cache_size=200, class_weight=None, coef0=0.0,\n",
       "  decision_function_shape='ovr', degree=3, gamma=0.27368421052631575,\n",
       "  kernel='rbf', max_iter=-1, probability=False, random_state=None,\n",
       "  shrinking=True, tol=0.001, verbose=False)"
      ]
     },
     "execution_count": 95,
     "metadata": {},
     "output_type": "execute_result"
    }
   ],
   "source": [
    "grid.best_estimator_"
   ]
  },
  {
   "cell_type": "code",
   "execution_count": 96,
   "metadata": {},
   "outputs": [],
   "source": [
    "pred_y = grid.predict(test_X)"
   ]
  },
  {
   "cell_type": "code",
   "execution_count": 97,
   "metadata": {},
   "outputs": [
    {
     "name": "stdout",
     "output_type": "stream",
     "text": [
      "Accuracy of rbf SVM classifier on test set: 0.48\n"
     ]
    }
   ],
   "source": [
    "print('Accuracy of rbf SVM classifier on test set: {:.2f}'.format(grid.score(test_X, test_y)))"
   ]
  },
  {
   "cell_type": "code",
   "execution_count": 98,
   "metadata": {},
   "outputs": [
    {
     "name": "stdout",
     "output_type": "stream",
     "text": [
      "[[24 18]\n",
      " [21 12]]\n"
     ]
    }
   ],
   "source": [
    "confusion_mat = confusion_matrix(test_y, pred_y)\n",
    "print(confusion_mat)"
   ]
  },
  {
   "cell_type": "markdown",
   "metadata": {},
   "source": [
    "## try with logit features"
   ]
  },
  {
   "cell_type": "code",
   "execution_count": 62,
   "metadata": {},
   "outputs": [],
   "source": [
    "svmrbf = SVC()"
   ]
  },
  {
   "cell_type": "code",
   "execution_count": 63,
   "metadata": {},
   "outputs": [],
   "source": [
    "from sklearn.model_selection import GridSearchCV\n",
    "from sklearn.model_selection import StratifiedShuffleSplit\n",
    "C_range = np.linspace(5, 15, 20)\n",
    "gamma_range = np.linspace(0, 1, 20)\n",
    "param_grid = dict(gamma=gamma_range, C=C_range)\n",
    "cv = StratifiedShuffleSplit(n_splits=5, test_size=0.2, random_state=42)\n",
    "grid = GridSearchCV(svmrbf, param_grid=param_grid, cv=cv)"
   ]
  },
  {
   "cell_type": "code",
   "execution_count": 64,
   "metadata": {},
   "outputs": [
    {
     "data": {
      "text/plain": [
       "GridSearchCV(cv=StratifiedShuffleSplit(n_splits=5, random_state=42, test_size=0.2,\n",
       "            train_size=None),\n",
       "       error_score='raise',\n",
       "       estimator=SVC(C=1.0, cache_size=200, class_weight=None, coef0=0.0,\n",
       "  decision_function_shape='ovr', degree=3, gamma='auto', kernel='rbf',\n",
       "  max_iter=-1, probability=False, random_state=None, shrinking=True,\n",
       "  tol=0.001, verbose=False),\n",
       "       fit_params=None, iid=True, n_jobs=1,\n",
       "       param_grid={'gamma': array([0.     , 0.05263, 0.10526, 0.15789, 0.21053, 0.26316, 0.31579,\n",
       "       0.36842, 0.42105, 0.47368, 0.52632, 0.57895, 0.63158, 0.68421,\n",
       "       0.73684, 0.78947, 0.84211, 0.89474, 0.94737, 1.     ]), 'C': array([ 5.     ,  5.52632,  6.05263,  6.57895,  7.10526,  7.63158,\n",
       "        8.15789,  8.68421,  9.21053,  9.73684, 10.26316, 10.78947,\n",
       "       11.31579, 11.84211, 12.36842, 12.89474, 13.42105, 13.94737,\n",
       "       14.47368, 15.     ])},\n",
       "       pre_dispatch='2*n_jobs', refit=True, return_train_score='warn',\n",
       "       scoring=None, verbose=0)"
      ]
     },
     "execution_count": 64,
     "metadata": {},
     "output_type": "execute_result"
    }
   ],
   "source": [
    "grid.fit(train_X[logistic_features], train_y)"
   ]
  },
  {
   "cell_type": "code",
   "execution_count": 65,
   "metadata": {},
   "outputs": [
    {
     "data": {
      "text/plain": [
       "SVC(C=6.052631578947368, cache_size=200, class_weight=None, coef0=0.0,\n",
       "  decision_function_shape='ovr', degree=3, gamma=0.15789473684210525,\n",
       "  kernel='rbf', max_iter=-1, probability=False, random_state=None,\n",
       "  shrinking=True, tol=0.001, verbose=False)"
      ]
     },
     "execution_count": 65,
     "metadata": {},
     "output_type": "execute_result"
    }
   ],
   "source": [
    "grid.best_estimator_"
   ]
  },
  {
   "cell_type": "code",
   "execution_count": 66,
   "metadata": {},
   "outputs": [],
   "source": [
    "pred_y = grid.predict(test_X[logistic_features])"
   ]
  },
  {
   "cell_type": "code",
   "execution_count": 67,
   "metadata": {},
   "outputs": [
    {
     "name": "stdout",
     "output_type": "stream",
     "text": [
      "Accuracy of linear svm classifier on test set: 0.49\n"
     ]
    }
   ],
   "source": [
    "print('Accuracy of linear svm classifier on test set: {:.2f}'.format(grid.score(test_X[logistic_features], test_y)))"
   ]
  },
  {
   "cell_type": "code",
   "execution_count": 68,
   "metadata": {},
   "outputs": [
    {
     "name": "stdout",
     "output_type": "stream",
     "text": [
      "[[26  8]\n",
      " [30 11]]\n"
     ]
    }
   ],
   "source": [
    "confusion_mat = confusion_matrix(test_y, pred_y)\n",
    "print(confusion_mat)"
   ]
  },
  {
   "cell_type": "markdown",
   "metadata": {},
   "source": [
    "## trying out PCA"
   ]
  },
  {
   "cell_type": "code",
   "execution_count": 134,
   "metadata": {},
   "outputs": [],
   "source": [
    "pca = PCA()"
   ]
  },
  {
   "cell_type": "code",
   "execution_count": 135,
   "metadata": {},
   "outputs": [
    {
     "data": {
      "text/plain": [
       "PCA(copy=True, iterated_power='auto', n_components=None, random_state=None,\n",
       "  svd_solver='auto', tol=0.0, whiten=False)"
      ]
     },
     "execution_count": 135,
     "metadata": {},
     "output_type": "execute_result"
    }
   ],
   "source": [
    "pca.fit(train_X)"
   ]
  },
  {
   "cell_type": "code",
   "execution_count": 145,
   "metadata": {},
   "outputs": [
    {
     "data": {
      "text/plain": [
       "17"
      ]
     },
     "execution_count": 145,
     "metadata": {},
     "output_type": "execute_result"
    }
   ],
   "source": [
    "(pca.explained_variance_ratio_ > 0.007).sum()\n",
    "# if variance explained is more than 1/128 then the vector is considered"
   ]
  },
  {
   "cell_type": "code",
   "execution_count": 75,
   "metadata": {},
   "outputs": [],
   "source": [
    "pca = PCA(n_components=17)"
   ]
  },
  {
   "cell_type": "code",
   "execution_count": 76,
   "metadata": {},
   "outputs": [
    {
     "data": {
      "text/plain": [
       "PCA(copy=True, iterated_power='auto', n_components=17, random_state=None,\n",
       "  svd_solver='auto', tol=0.0, whiten=False)"
      ]
     },
     "execution_count": 76,
     "metadata": {},
     "output_type": "execute_result"
    }
   ],
   "source": [
    "pca.fit(train_X)"
   ]
  },
  {
   "cell_type": "code",
   "execution_count": 77,
   "metadata": {},
   "outputs": [
    {
     "data": {
      "text/plain": [
       "array([0.41423574, 0.10448867, 0.08048943, 0.06946487, 0.0380066 ,\n",
       "       0.0356939 , 0.03052056, 0.02845258, 0.02527583, 0.01904555,\n",
       "       0.01570564, 0.01519603, 0.01320736, 0.01149082, 0.00933643,\n",
       "       0.00809164, 0.00750064])"
      ]
     },
     "execution_count": 77,
     "metadata": {},
     "output_type": "execute_result"
    }
   ],
   "source": [
    "pca.explained_variance_ratio_"
   ]
  },
  {
   "cell_type": "code",
   "execution_count": 78,
   "metadata": {},
   "outputs": [],
   "source": [
    "train_t_X = pca.transform(train_X)"
   ]
  },
  {
   "cell_type": "code",
   "execution_count": 79,
   "metadata": {},
   "outputs": [],
   "source": [
    "test_t_X = pca.transform(test_X)"
   ]
  },
  {
   "cell_type": "code",
   "execution_count": 80,
   "metadata": {},
   "outputs": [
    {
     "data": {
      "text/plain": [
       "(224, 17)"
      ]
     },
     "execution_count": 80,
     "metadata": {},
     "output_type": "execute_result"
    }
   ],
   "source": [
    "train_t_X.shape"
   ]
  },
  {
   "cell_type": "code",
   "execution_count": 81,
   "metadata": {},
   "outputs": [],
   "source": [
    "from sklearn.model_selection import GridSearchCV\n",
    "from sklearn.model_selection import StratifiedShuffleSplit\n",
    "svmLinear = SVC(kernel=\"linear\", C=200)\n",
    "C_range = np.linspace(850,1250, 10)\n",
    "param_grid = dict(C=C_range)\n",
    "cv = StratifiedShuffleSplit(n_splits=5, test_size=0.2, random_state=42)\n",
    "grid = GridSearchCV(svmLinear, param_grid=param_grid, cv=cv)"
   ]
  },
  {
   "cell_type": "code",
   "execution_count": 82,
   "metadata": {},
   "outputs": [
    {
     "data": {
      "text/plain": [
       "GridSearchCV(cv=StratifiedShuffleSplit(n_splits=5, random_state=42, test_size=0.2,\n",
       "            train_size=None),\n",
       "       error_score='raise',\n",
       "       estimator=SVC(C=200, cache_size=200, class_weight=None, coef0=0.0,\n",
       "  decision_function_shape='ovr', degree=3, gamma='auto', kernel='linear',\n",
       "  max_iter=-1, probability=False, random_state=None, shrinking=True,\n",
       "  tol=0.001, verbose=False),\n",
       "       fit_params=None, iid=True, n_jobs=1,\n",
       "       param_grid={'C': array([ 850.     ,  894.44444,  938.88889,  983.33333, 1027.77778,\n",
       "       1072.22222, 1116.66667, 1161.11111, 1205.55556, 1250.     ])},\n",
       "       pre_dispatch='2*n_jobs', refit=True, return_train_score='warn',\n",
       "       scoring=None, verbose=0)"
      ]
     },
     "execution_count": 82,
     "metadata": {},
     "output_type": "execute_result"
    }
   ],
   "source": [
    "grid.fit(train_t_X, train_y)"
   ]
  },
  {
   "cell_type": "code",
   "execution_count": 83,
   "metadata": {},
   "outputs": [
    {
     "data": {
      "text/plain": [
       "SVC(C=850.0, cache_size=200, class_weight=None, coef0=0.0,\n",
       "  decision_function_shape='ovr', degree=3, gamma='auto', kernel='linear',\n",
       "  max_iter=-1, probability=False, random_state=None, shrinking=True,\n",
       "  tol=0.001, verbose=False)"
      ]
     },
     "execution_count": 83,
     "metadata": {},
     "output_type": "execute_result"
    }
   ],
   "source": [
    "grid.best_estimator_"
   ]
  },
  {
   "cell_type": "code",
   "execution_count": 84,
   "metadata": {},
   "outputs": [],
   "source": [
    "pred_y = grid.predict(test_t_X)"
   ]
  },
  {
   "cell_type": "code",
   "execution_count": 283,
   "metadata": {},
   "outputs": [
    {
     "name": "stdout",
     "output_type": "stream",
     "text": [
      "Accuracy of linear svm classifier on test set: 0.56\n"
     ]
    }
   ],
   "source": [
    "print('Accuracy of linear svm classifier on test set: {:.2f}'.format(grid.score(test_t_X, test_y)))"
   ]
  },
  {
   "cell_type": "code",
   "execution_count": 284,
   "metadata": {},
   "outputs": [
    {
     "name": "stdout",
     "output_type": "stream",
     "text": [
      "[[29 13]\n",
      " [20 13]]\n"
     ]
    }
   ],
   "source": [
    "confusion_mat = confusion_matrix(test_y, pred_y)\n",
    "print(confusion_mat)"
   ]
  },
  {
   "cell_type": "markdown",
   "metadata": {},
   "source": [
    "# trying KNN with PCA"
   ]
  },
  {
   "cell_type": "code",
   "execution_count": 261,
   "metadata": {},
   "outputs": [],
   "source": [
    "neigh = KNeighborsClassifier(n_neighbors=3)"
   ]
  },
  {
   "cell_type": "code",
   "execution_count": 299,
   "metadata": {},
   "outputs": [],
   "source": [
    "K_range = np.linspace(50,100, 100,dtype=int)\n",
    "param_grid = dict(n_neighbors=K_range)\n",
    "cv = StratifiedShuffleSplit(n_splits=5, test_size=0.2, random_state=42)\n",
    "grid = GridSearchCV(neigh, param_grid=param_grid, cv=cv)"
   ]
  },
  {
   "cell_type": "code",
   "execution_count": 300,
   "metadata": {},
   "outputs": [
    {
     "data": {
      "text/plain": [
       "GridSearchCV(cv=StratifiedShuffleSplit(n_splits=5, random_state=42, test_size=0.2,\n",
       "            train_size=None),\n",
       "       error_score='raise',\n",
       "       estimator=KNeighborsClassifier(algorithm='auto', leaf_size=30, metric='minkowski',\n",
       "           metric_params=None, n_jobs=1, n_neighbors=3, p=2,\n",
       "           weights='uniform'),\n",
       "       fit_params=None, iid=True, n_jobs=1,\n",
       "       param_grid={'n_neighbors': array([ 50,  50, ...,  99, 100])},\n",
       "       pre_dispatch='2*n_jobs', refit=True, return_train_score='warn',\n",
       "       scoring=None, verbose=0)"
      ]
     },
     "execution_count": 300,
     "metadata": {},
     "output_type": "execute_result"
    }
   ],
   "source": [
    "grid.fit(train_t_X,train_y)"
   ]
  },
  {
   "cell_type": "code",
   "execution_count": 301,
   "metadata": {},
   "outputs": [
    {
     "data": {
      "text/plain": [
       "KNeighborsClassifier(algorithm='auto', leaf_size=30, metric='minkowski',\n",
       "           metric_params=None, n_jobs=1, n_neighbors=51, p=2,\n",
       "           weights='uniform')"
      ]
     },
     "execution_count": 301,
     "metadata": {},
     "output_type": "execute_result"
    }
   ],
   "source": [
    "grid.best_estimator_"
   ]
  },
  {
   "cell_type": "code",
   "execution_count": 302,
   "metadata": {},
   "outputs": [],
   "source": [
    "pred_y = grid.predict(test_t_X)"
   ]
  },
  {
   "cell_type": "code",
   "execution_count": 303,
   "metadata": {},
   "outputs": [
    {
     "name": "stdout",
     "output_type": "stream",
     "text": [
      "Accuracy of linear svm classifier on test set: 0.49\n"
     ]
    }
   ],
   "source": [
    "print('Accuracy of linear svm classifier on test set: {:.2f}'.format(grid.score(test_t_X, test_y)))"
   ]
  },
  {
   "cell_type": "code",
   "execution_count": 304,
   "metadata": {},
   "outputs": [
    {
     "name": "stdout",
     "output_type": "stream",
     "text": [
      "[[35  7]\n",
      " [31  2]]\n"
     ]
    }
   ],
   "source": [
    "confusion_mat = confusion_matrix(test_y, pred_y)\n",
    "print(confusion_mat)"
   ]
  },
  {
   "cell_type": "markdown",
   "metadata": {},
   "source": [
    "## explore the features with incorrect prediction"
   ]
  },
  {
   "cell_type": "code",
   "execution_count": 85,
   "metadata": {},
   "outputs": [],
   "source": [
    "gesture_vectors = test_X[correct_gestures_index][logistic_features]"
   ]
  },
  {
   "cell_type": "code",
   "execution_count": 86,
   "metadata": {},
   "outputs": [
    {
     "data": {
      "text/html": [
       "<div>\n",
       "<style scoped>\n",
       "    .dataframe tbody tr th:only-of-type {\n",
       "        vertical-align: middle;\n",
       "    }\n",
       "\n",
       "    .dataframe tbody tr th {\n",
       "        vertical-align: top;\n",
       "    }\n",
       "\n",
       "    .dataframe thead th {\n",
       "        text-align: right;\n",
       "    }\n",
       "</style>\n",
       "<table border=\"1\" class=\"dataframe\">\n",
       "  <thead>\n",
       "    <tr style=\"text-align: right;\">\n",
       "      <th></th>\n",
       "      <th>feature7</th>\n",
       "      <th>feature15</th>\n",
       "      <th>feature19</th>\n",
       "      <th>feature25</th>\n",
       "      <th>feature27</th>\n",
       "      <th>feature33</th>\n",
       "      <th>feature42</th>\n",
       "      <th>feature44</th>\n",
       "      <th>feature47</th>\n",
       "      <th>feature49</th>\n",
       "      <th>feature70</th>\n",
       "      <th>feature72</th>\n",
       "      <th>feature77</th>\n",
       "      <th>feature81</th>\n",
       "      <th>feature85</th>\n",
       "      <th>feature86</th>\n",
       "      <th>feature89</th>\n",
       "      <th>feature93</th>\n",
       "      <th>feature94</th>\n",
       "      <th>feature95</th>\n",
       "    </tr>\n",
       "  </thead>\n",
       "  <tbody>\n",
       "    <tr>\n",
       "      <th>293</th>\n",
       "      <td>0.000000</td>\n",
       "      <td>1.050539</td>\n",
       "      <td>0.593949</td>\n",
       "      <td>0.698747</td>\n",
       "      <td>0.125549</td>\n",
       "      <td>0.095240</td>\n",
       "      <td>0.606250</td>\n",
       "      <td>0.525725</td>\n",
       "      <td>0.000000</td>\n",
       "      <td>0.000000</td>\n",
       "      <td>0.000000</td>\n",
       "      <td>0.152932</td>\n",
       "      <td>0.000000</td>\n",
       "      <td>1.399698</td>\n",
       "      <td>0.414531</td>\n",
       "      <td>0.833366</td>\n",
       "      <td>0.083583</td>\n",
       "      <td>0.778674</td>\n",
       "      <td>0.000000</td>\n",
       "      <td>0.340296</td>\n",
       "    </tr>\n",
       "    <tr>\n",
       "      <th>66</th>\n",
       "      <td>0.088447</td>\n",
       "      <td>1.019851</td>\n",
       "      <td>1.299303</td>\n",
       "      <td>0.849852</td>\n",
       "      <td>0.000000</td>\n",
       "      <td>0.000000</td>\n",
       "      <td>0.624070</td>\n",
       "      <td>0.159913</td>\n",
       "      <td>0.361939</td>\n",
       "      <td>0.000000</td>\n",
       "      <td>0.094094</td>\n",
       "      <td>0.037443</td>\n",
       "      <td>0.000000</td>\n",
       "      <td>0.303977</td>\n",
       "      <td>0.030870</td>\n",
       "      <td>1.445560</td>\n",
       "      <td>0.000000</td>\n",
       "      <td>0.460027</td>\n",
       "      <td>0.000000</td>\n",
       "      <td>0.354137</td>\n",
       "    </tr>\n",
       "    <tr>\n",
       "      <th>186</th>\n",
       "      <td>0.161037</td>\n",
       "      <td>0.590670</td>\n",
       "      <td>0.560151</td>\n",
       "      <td>0.815514</td>\n",
       "      <td>0.000000</td>\n",
       "      <td>0.098457</td>\n",
       "      <td>0.450015</td>\n",
       "      <td>0.399671</td>\n",
       "      <td>0.099739</td>\n",
       "      <td>0.211942</td>\n",
       "      <td>0.000000</td>\n",
       "      <td>0.203626</td>\n",
       "      <td>0.239165</td>\n",
       "      <td>1.082809</td>\n",
       "      <td>0.232795</td>\n",
       "      <td>0.871531</td>\n",
       "      <td>0.029110</td>\n",
       "      <td>0.687545</td>\n",
       "      <td>0.000000</td>\n",
       "      <td>0.679346</td>\n",
       "    </tr>\n",
       "    <tr>\n",
       "      <th>65</th>\n",
       "      <td>0.222193</td>\n",
       "      <td>0.794831</td>\n",
       "      <td>0.657372</td>\n",
       "      <td>0.704640</td>\n",
       "      <td>0.139071</td>\n",
       "      <td>0.000000</td>\n",
       "      <td>0.487143</td>\n",
       "      <td>0.465329</td>\n",
       "      <td>0.000000</td>\n",
       "      <td>0.000000</td>\n",
       "      <td>0.000000</td>\n",
       "      <td>0.000000</td>\n",
       "      <td>0.000000</td>\n",
       "      <td>0.817026</td>\n",
       "      <td>0.381625</td>\n",
       "      <td>0.975616</td>\n",
       "      <td>0.000000</td>\n",
       "      <td>0.593835</td>\n",
       "      <td>0.000000</td>\n",
       "      <td>0.317326</td>\n",
       "    </tr>\n",
       "    <tr>\n",
       "      <th>44</th>\n",
       "      <td>0.317994</td>\n",
       "      <td>0.946493</td>\n",
       "      <td>0.928560</td>\n",
       "      <td>0.599522</td>\n",
       "      <td>0.216953</td>\n",
       "      <td>0.000000</td>\n",
       "      <td>0.629331</td>\n",
       "      <td>0.452732</td>\n",
       "      <td>0.058591</td>\n",
       "      <td>0.000000</td>\n",
       "      <td>0.000000</td>\n",
       "      <td>0.000000</td>\n",
       "      <td>0.000000</td>\n",
       "      <td>0.355020</td>\n",
       "      <td>0.153901</td>\n",
       "      <td>1.151834</td>\n",
       "      <td>0.000000</td>\n",
       "      <td>0.361952</td>\n",
       "      <td>0.000000</td>\n",
       "      <td>0.450965</td>\n",
       "    </tr>\n",
       "    <tr>\n",
       "      <th>110</th>\n",
       "      <td>0.000000</td>\n",
       "      <td>0.751726</td>\n",
       "      <td>0.405692</td>\n",
       "      <td>0.771498</td>\n",
       "      <td>0.182711</td>\n",
       "      <td>0.041515</td>\n",
       "      <td>0.468365</td>\n",
       "      <td>0.426574</td>\n",
       "      <td>0.000000</td>\n",
       "      <td>0.092029</td>\n",
       "      <td>0.000000</td>\n",
       "      <td>0.400876</td>\n",
       "      <td>0.094903</td>\n",
       "      <td>1.515668</td>\n",
       "      <td>0.567489</td>\n",
       "      <td>0.872784</td>\n",
       "      <td>0.071744</td>\n",
       "      <td>0.949196</td>\n",
       "      <td>0.000000</td>\n",
       "      <td>0.632253</td>\n",
       "    </tr>\n",
       "    <tr>\n",
       "      <th>85</th>\n",
       "      <td>0.000000</td>\n",
       "      <td>0.992556</td>\n",
       "      <td>0.451385</td>\n",
       "      <td>0.752795</td>\n",
       "      <td>0.000000</td>\n",
       "      <td>0.104120</td>\n",
       "      <td>0.655352</td>\n",
       "      <td>0.187845</td>\n",
       "      <td>0.161590</td>\n",
       "      <td>0.010937</td>\n",
       "      <td>0.000000</td>\n",
       "      <td>0.475213</td>\n",
       "      <td>0.284642</td>\n",
       "      <td>1.560792</td>\n",
       "      <td>0.271585</td>\n",
       "      <td>1.171083</td>\n",
       "      <td>0.007592</td>\n",
       "      <td>0.799521</td>\n",
       "      <td>0.000000</td>\n",
       "      <td>0.426501</td>\n",
       "    </tr>\n",
       "    <tr>\n",
       "      <th>47</th>\n",
       "      <td>0.160532</td>\n",
       "      <td>0.903563</td>\n",
       "      <td>0.875950</td>\n",
       "      <td>0.632075</td>\n",
       "      <td>0.157957</td>\n",
       "      <td>0.000000</td>\n",
       "      <td>0.669741</td>\n",
       "      <td>0.265637</td>\n",
       "      <td>0.412459</td>\n",
       "      <td>0.000000</td>\n",
       "      <td>0.000000</td>\n",
       "      <td>0.241020</td>\n",
       "      <td>0.000000</td>\n",
       "      <td>0.893415</td>\n",
       "      <td>0.349090</td>\n",
       "      <td>0.908026</td>\n",
       "      <td>0.000000</td>\n",
       "      <td>0.164854</td>\n",
       "      <td>0.000000</td>\n",
       "      <td>0.678671</td>\n",
       "    </tr>\n",
       "    <tr>\n",
       "      <th>28</th>\n",
       "      <td>0.000000</td>\n",
       "      <td>1.429519</td>\n",
       "      <td>1.345505</td>\n",
       "      <td>0.989929</td>\n",
       "      <td>0.000000</td>\n",
       "      <td>0.000000</td>\n",
       "      <td>0.937417</td>\n",
       "      <td>0.000000</td>\n",
       "      <td>0.000000</td>\n",
       "      <td>0.000000</td>\n",
       "      <td>0.362795</td>\n",
       "      <td>0.000000</td>\n",
       "      <td>0.000000</td>\n",
       "      <td>0.269136</td>\n",
       "      <td>0.252607</td>\n",
       "      <td>1.684342</td>\n",
       "      <td>0.000000</td>\n",
       "      <td>0.304357</td>\n",
       "      <td>0.000000</td>\n",
       "      <td>0.281744</td>\n",
       "    </tr>\n",
       "    <tr>\n",
       "      <th>200</th>\n",
       "      <td>0.323878</td>\n",
       "      <td>0.841928</td>\n",
       "      <td>0.649186</td>\n",
       "      <td>0.460776</td>\n",
       "      <td>0.000000</td>\n",
       "      <td>0.116305</td>\n",
       "      <td>0.536175</td>\n",
       "      <td>0.471294</td>\n",
       "      <td>0.000000</td>\n",
       "      <td>0.064429</td>\n",
       "      <td>0.000000</td>\n",
       "      <td>0.000000</td>\n",
       "      <td>0.122496</td>\n",
       "      <td>1.144354</td>\n",
       "      <td>0.246423</td>\n",
       "      <td>1.079741</td>\n",
       "      <td>0.168732</td>\n",
       "      <td>1.030521</td>\n",
       "      <td>0.020452</td>\n",
       "      <td>0.523444</td>\n",
       "    </tr>\n",
       "    <tr>\n",
       "      <th>291</th>\n",
       "      <td>0.322780</td>\n",
       "      <td>0.979398</td>\n",
       "      <td>0.882918</td>\n",
       "      <td>0.786324</td>\n",
       "      <td>0.000000</td>\n",
       "      <td>0.000000</td>\n",
       "      <td>0.515546</td>\n",
       "      <td>0.174608</td>\n",
       "      <td>0.000000</td>\n",
       "      <td>0.000000</td>\n",
       "      <td>0.000000</td>\n",
       "      <td>0.000000</td>\n",
       "      <td>0.000000</td>\n",
       "      <td>0.529677</td>\n",
       "      <td>0.202439</td>\n",
       "      <td>1.115654</td>\n",
       "      <td>0.000000</td>\n",
       "      <td>0.817099</td>\n",
       "      <td>0.000000</td>\n",
       "      <td>0.559031</td>\n",
       "    </tr>\n",
       "    <tr>\n",
       "      <th>215</th>\n",
       "      <td>0.040776</td>\n",
       "      <td>0.898043</td>\n",
       "      <td>0.794652</td>\n",
       "      <td>0.586632</td>\n",
       "      <td>0.000000</td>\n",
       "      <td>0.000000</td>\n",
       "      <td>0.669804</td>\n",
       "      <td>0.215180</td>\n",
       "      <td>0.000000</td>\n",
       "      <td>0.000000</td>\n",
       "      <td>0.000000</td>\n",
       "      <td>0.105392</td>\n",
       "      <td>0.000000</td>\n",
       "      <td>0.689122</td>\n",
       "      <td>0.393726</td>\n",
       "      <td>0.992558</td>\n",
       "      <td>0.000000</td>\n",
       "      <td>0.507429</td>\n",
       "      <td>0.000000</td>\n",
       "      <td>0.439153</td>\n",
       "    </tr>\n",
       "    <tr>\n",
       "      <th>168</th>\n",
       "      <td>0.102779</td>\n",
       "      <td>0.978503</td>\n",
       "      <td>1.074886</td>\n",
       "      <td>0.750275</td>\n",
       "      <td>0.000000</td>\n",
       "      <td>0.000000</td>\n",
       "      <td>0.691175</td>\n",
       "      <td>0.235265</td>\n",
       "      <td>0.000000</td>\n",
       "      <td>0.000000</td>\n",
       "      <td>0.049511</td>\n",
       "      <td>0.000000</td>\n",
       "      <td>0.000000</td>\n",
       "      <td>0.217095</td>\n",
       "      <td>0.284517</td>\n",
       "      <td>1.114312</td>\n",
       "      <td>0.000000</td>\n",
       "      <td>0.262372</td>\n",
       "      <td>0.000000</td>\n",
       "      <td>0.382146</td>\n",
       "    </tr>\n",
       "    <tr>\n",
       "      <th>247</th>\n",
       "      <td>0.000000</td>\n",
       "      <td>0.654856</td>\n",
       "      <td>0.456121</td>\n",
       "      <td>0.797233</td>\n",
       "      <td>0.000000</td>\n",
       "      <td>0.263277</td>\n",
       "      <td>0.462598</td>\n",
       "      <td>0.510728</td>\n",
       "      <td>0.000000</td>\n",
       "      <td>0.420404</td>\n",
       "      <td>0.000000</td>\n",
       "      <td>0.295683</td>\n",
       "      <td>0.155215</td>\n",
       "      <td>1.324526</td>\n",
       "      <td>0.380904</td>\n",
       "      <td>0.750405</td>\n",
       "      <td>0.021718</td>\n",
       "      <td>0.826213</td>\n",
       "      <td>0.000000</td>\n",
       "      <td>0.506805</td>\n",
       "    </tr>\n",
       "  </tbody>\n",
       "</table>\n",
       "</div>"
      ],
      "text/plain": [
       "     feature7  feature15  feature19  feature25  feature27  feature33  \\\n",
       "293  0.000000   1.050539   0.593949   0.698747   0.125549   0.095240   \n",
       "66   0.088447   1.019851   1.299303   0.849852   0.000000   0.000000   \n",
       "186  0.161037   0.590670   0.560151   0.815514   0.000000   0.098457   \n",
       "65   0.222193   0.794831   0.657372   0.704640   0.139071   0.000000   \n",
       "44   0.317994   0.946493   0.928560   0.599522   0.216953   0.000000   \n",
       "110  0.000000   0.751726   0.405692   0.771498   0.182711   0.041515   \n",
       "85   0.000000   0.992556   0.451385   0.752795   0.000000   0.104120   \n",
       "47   0.160532   0.903563   0.875950   0.632075   0.157957   0.000000   \n",
       "28   0.000000   1.429519   1.345505   0.989929   0.000000   0.000000   \n",
       "200  0.323878   0.841928   0.649186   0.460776   0.000000   0.116305   \n",
       "291  0.322780   0.979398   0.882918   0.786324   0.000000   0.000000   \n",
       "215  0.040776   0.898043   0.794652   0.586632   0.000000   0.000000   \n",
       "168  0.102779   0.978503   1.074886   0.750275   0.000000   0.000000   \n",
       "247  0.000000   0.654856   0.456121   0.797233   0.000000   0.263277   \n",
       "\n",
       "     feature42  feature44  feature47  feature49  feature70  feature72  \\\n",
       "293   0.606250   0.525725   0.000000   0.000000   0.000000   0.152932   \n",
       "66    0.624070   0.159913   0.361939   0.000000   0.094094   0.037443   \n",
       "186   0.450015   0.399671   0.099739   0.211942   0.000000   0.203626   \n",
       "65    0.487143   0.465329   0.000000   0.000000   0.000000   0.000000   \n",
       "44    0.629331   0.452732   0.058591   0.000000   0.000000   0.000000   \n",
       "110   0.468365   0.426574   0.000000   0.092029   0.000000   0.400876   \n",
       "85    0.655352   0.187845   0.161590   0.010937   0.000000   0.475213   \n",
       "47    0.669741   0.265637   0.412459   0.000000   0.000000   0.241020   \n",
       "28    0.937417   0.000000   0.000000   0.000000   0.362795   0.000000   \n",
       "200   0.536175   0.471294   0.000000   0.064429   0.000000   0.000000   \n",
       "291   0.515546   0.174608   0.000000   0.000000   0.000000   0.000000   \n",
       "215   0.669804   0.215180   0.000000   0.000000   0.000000   0.105392   \n",
       "168   0.691175   0.235265   0.000000   0.000000   0.049511   0.000000   \n",
       "247   0.462598   0.510728   0.000000   0.420404   0.000000   0.295683   \n",
       "\n",
       "     feature77  feature81  feature85  feature86  feature89  feature93  \\\n",
       "293   0.000000   1.399698   0.414531   0.833366   0.083583   0.778674   \n",
       "66    0.000000   0.303977   0.030870   1.445560   0.000000   0.460027   \n",
       "186   0.239165   1.082809   0.232795   0.871531   0.029110   0.687545   \n",
       "65    0.000000   0.817026   0.381625   0.975616   0.000000   0.593835   \n",
       "44    0.000000   0.355020   0.153901   1.151834   0.000000   0.361952   \n",
       "110   0.094903   1.515668   0.567489   0.872784   0.071744   0.949196   \n",
       "85    0.284642   1.560792   0.271585   1.171083   0.007592   0.799521   \n",
       "47    0.000000   0.893415   0.349090   0.908026   0.000000   0.164854   \n",
       "28    0.000000   0.269136   0.252607   1.684342   0.000000   0.304357   \n",
       "200   0.122496   1.144354   0.246423   1.079741   0.168732   1.030521   \n",
       "291   0.000000   0.529677   0.202439   1.115654   0.000000   0.817099   \n",
       "215   0.000000   0.689122   0.393726   0.992558   0.000000   0.507429   \n",
       "168   0.000000   0.217095   0.284517   1.114312   0.000000   0.262372   \n",
       "247   0.155215   1.324526   0.380904   0.750405   0.021718   0.826213   \n",
       "\n",
       "     feature94  feature95  \n",
       "293   0.000000   0.340296  \n",
       "66    0.000000   0.354137  \n",
       "186   0.000000   0.679346  \n",
       "65    0.000000   0.317326  \n",
       "44    0.000000   0.450965  \n",
       "110   0.000000   0.632253  \n",
       "85    0.000000   0.426501  \n",
       "47    0.000000   0.678671  \n",
       "28    0.000000   0.281744  \n",
       "200   0.020452   0.523444  \n",
       "291   0.000000   0.559031  \n",
       "215   0.000000   0.439153  \n",
       "168   0.000000   0.382146  \n",
       "247   0.000000   0.506805  "
      ]
     },
     "execution_count": 86,
     "metadata": {},
     "output_type": "execute_result"
    }
   ],
   "source": [
    "gesture_vectors"
   ]
  },
  {
   "cell_type": "code",
   "execution_count": 127,
   "metadata": {},
   "outputs": [
    {
     "data": {
      "text/plain": [
       "0.06590479612350464"
      ]
     },
     "execution_count": 127,
     "metadata": {},
     "output_type": "execute_result"
    }
   ],
   "source": [
    "scipy.spatial.distance.cosine(gesture_vectors.loc[200,:],gesture_vectors.loc[247,:])"
   ]
  },
  {
   "cell_type": "code",
   "execution_count": 128,
   "metadata": {},
   "outputs": [],
   "source": [
    "average_detected_gesture = gesture_vectors.sum()"
   ]
  },
  {
   "cell_type": "code",
   "execution_count": 129,
   "metadata": {},
   "outputs": [
    {
     "data": {
      "text/plain": [
       "0.041121482849121094"
      ]
     },
     "execution_count": 129,
     "metadata": {},
     "output_type": "execute_result"
    }
   ],
   "source": [
    "scipy.spatial.distance.cosine(gesture_vectors.loc[200,:],average_detected_gesture)"
   ]
  },
  {
   "cell_type": "code",
   "execution_count": 260,
   "metadata": {},
   "outputs": [],
   "source": [
    "df_8m = pd.DataFrame(columns=[\"video_id\",\"start_second\"]+list(features))"
   ]
  },
  {
   "cell_type": "code",
   "execution_count": 261,
   "metadata": {},
   "outputs": [],
   "source": [
    "import glob, os\n",
    "for file in glob.glob(\"youtube8m/*.wav\"):\n",
    "    sr, wav_data = wavfile.read(file)\n",
    "    assert wav_data.dtype == np.int16, 'Bad sample type: %r' % wav_data.dtype\n",
    "    samples = wav_data / 32768.0  # Convert to [-1.0, +1.0]\n",
    "    values = ProcessWithVGGish(vgg,samples,sr,1)\n",
    "    \n",
    "    temp_df = pd.DataFrame(values,columns=features)\n",
    "    temp_df['video_id'] = file[10:-4]\n",
    "    temp_df = temp_df.reset_index().rename(columns={'index':'start_second'})\n",
    "    df_8m = pd.concat([df_8m,temp_df[df_8m.columns]],axis=0).reset_index(drop=True)"
   ]
  },
  {
   "cell_type": "code",
   "execution_count": 262,
   "metadata": {},
   "outputs": [
    {
     "data": {
      "text/html": [
       "<div>\n",
       "<style scoped>\n",
       "    .dataframe tbody tr th:only-of-type {\n",
       "        vertical-align: middle;\n",
       "    }\n",
       "\n",
       "    .dataframe tbody tr th {\n",
       "        vertical-align: top;\n",
       "    }\n",
       "\n",
       "    .dataframe thead th {\n",
       "        text-align: right;\n",
       "    }\n",
       "</style>\n",
       "<table border=\"1\" class=\"dataframe\">\n",
       "  <thead>\n",
       "    <tr style=\"text-align: right;\">\n",
       "      <th></th>\n",
       "      <th>video_id</th>\n",
       "      <th>start_second</th>\n",
       "      <th>feature0</th>\n",
       "      <th>feature1</th>\n",
       "      <th>feature2</th>\n",
       "      <th>feature3</th>\n",
       "      <th>feature4</th>\n",
       "      <th>feature5</th>\n",
       "      <th>feature6</th>\n",
       "      <th>feature7</th>\n",
       "      <th>...</th>\n",
       "      <th>feature118</th>\n",
       "      <th>feature119</th>\n",
       "      <th>feature120</th>\n",
       "      <th>feature121</th>\n",
       "      <th>feature122</th>\n",
       "      <th>feature123</th>\n",
       "      <th>feature124</th>\n",
       "      <th>feature125</th>\n",
       "      <th>feature126</th>\n",
       "      <th>feature127</th>\n",
       "    </tr>\n",
       "  </thead>\n",
       "  <tbody>\n",
       "    <tr>\n",
       "      <th>620</th>\n",
       "      <td>zdtVT2xwrHU</td>\n",
       "      <td>5</td>\n",
       "      <td>0.0</td>\n",
       "      <td>0.00000</td>\n",
       "      <td>0.210122</td>\n",
       "      <td>0.0</td>\n",
       "      <td>0.0</td>\n",
       "      <td>0.0</td>\n",
       "      <td>1.160942</td>\n",
       "      <td>0.000000</td>\n",
       "      <td>...</td>\n",
       "      <td>0.0</td>\n",
       "      <td>0.0</td>\n",
       "      <td>0.100832</td>\n",
       "      <td>0.0</td>\n",
       "      <td>0.0</td>\n",
       "      <td>0.0</td>\n",
       "      <td>0.436314</td>\n",
       "      <td>0.0</td>\n",
       "      <td>0.492902</td>\n",
       "      <td>0.0</td>\n",
       "    </tr>\n",
       "    <tr>\n",
       "      <th>621</th>\n",
       "      <td>zdtVT2xwrHU</td>\n",
       "      <td>6</td>\n",
       "      <td>0.0</td>\n",
       "      <td>0.00643</td>\n",
       "      <td>0.304539</td>\n",
       "      <td>0.0</td>\n",
       "      <td>0.0</td>\n",
       "      <td>0.0</td>\n",
       "      <td>0.971064</td>\n",
       "      <td>0.070915</td>\n",
       "      <td>...</td>\n",
       "      <td>0.0</td>\n",
       "      <td>0.0</td>\n",
       "      <td>0.069267</td>\n",
       "      <td>0.0</td>\n",
       "      <td>0.0</td>\n",
       "      <td>0.0</td>\n",
       "      <td>0.312130</td>\n",
       "      <td>0.0</td>\n",
       "      <td>0.387916</td>\n",
       "      <td>0.0</td>\n",
       "    </tr>\n",
       "    <tr>\n",
       "      <th>622</th>\n",
       "      <td>zdtVT2xwrHU</td>\n",
       "      <td>7</td>\n",
       "      <td>0.0</td>\n",
       "      <td>0.00000</td>\n",
       "      <td>0.145601</td>\n",
       "      <td>0.0</td>\n",
       "      <td>0.0</td>\n",
       "      <td>0.0</td>\n",
       "      <td>0.886971</td>\n",
       "      <td>0.000000</td>\n",
       "      <td>...</td>\n",
       "      <td>0.0</td>\n",
       "      <td>0.0</td>\n",
       "      <td>0.000000</td>\n",
       "      <td>0.0</td>\n",
       "      <td>0.0</td>\n",
       "      <td>0.0</td>\n",
       "      <td>0.186530</td>\n",
       "      <td>0.0</td>\n",
       "      <td>0.455350</td>\n",
       "      <td>0.0</td>\n",
       "    </tr>\n",
       "    <tr>\n",
       "      <th>623</th>\n",
       "      <td>zdtVT2xwrHU</td>\n",
       "      <td>8</td>\n",
       "      <td>0.0</td>\n",
       "      <td>0.00000</td>\n",
       "      <td>0.241000</td>\n",
       "      <td>0.0</td>\n",
       "      <td>0.0</td>\n",
       "      <td>0.0</td>\n",
       "      <td>0.974537</td>\n",
       "      <td>0.141948</td>\n",
       "      <td>...</td>\n",
       "      <td>0.0</td>\n",
       "      <td>0.0</td>\n",
       "      <td>0.098884</td>\n",
       "      <td>0.0</td>\n",
       "      <td>0.0</td>\n",
       "      <td>0.0</td>\n",
       "      <td>0.081664</td>\n",
       "      <td>0.0</td>\n",
       "      <td>0.454245</td>\n",
       "      <td>0.0</td>\n",
       "    </tr>\n",
       "    <tr>\n",
       "      <th>624</th>\n",
       "      <td>zdtVT2xwrHU</td>\n",
       "      <td>9</td>\n",
       "      <td>0.0</td>\n",
       "      <td>0.00000</td>\n",
       "      <td>0.117311</td>\n",
       "      <td>0.0</td>\n",
       "      <td>0.0</td>\n",
       "      <td>0.0</td>\n",
       "      <td>1.037534</td>\n",
       "      <td>0.000000</td>\n",
       "      <td>...</td>\n",
       "      <td>0.0</td>\n",
       "      <td>0.0</td>\n",
       "      <td>0.000000</td>\n",
       "      <td>0.0</td>\n",
       "      <td>0.0</td>\n",
       "      <td>0.0</td>\n",
       "      <td>0.090246</td>\n",
       "      <td>0.0</td>\n",
       "      <td>0.382102</td>\n",
       "      <td>0.0</td>\n",
       "    </tr>\n",
       "  </tbody>\n",
       "</table>\n",
       "<p>5 rows × 130 columns</p>\n",
       "</div>"
      ],
      "text/plain": [
       "        video_id start_second  feature0  feature1  feature2  feature3  \\\n",
       "620  zdtVT2xwrHU            5       0.0   0.00000  0.210122       0.0   \n",
       "621  zdtVT2xwrHU            6       0.0   0.00643  0.304539       0.0   \n",
       "622  zdtVT2xwrHU            7       0.0   0.00000  0.145601       0.0   \n",
       "623  zdtVT2xwrHU            8       0.0   0.00000  0.241000       0.0   \n",
       "624  zdtVT2xwrHU            9       0.0   0.00000  0.117311       0.0   \n",
       "\n",
       "     feature4  feature5  feature6  feature7     ...      feature118  \\\n",
       "620       0.0       0.0  1.160942  0.000000     ...             0.0   \n",
       "621       0.0       0.0  0.971064  0.070915     ...             0.0   \n",
       "622       0.0       0.0  0.886971  0.000000     ...             0.0   \n",
       "623       0.0       0.0  0.974537  0.141948     ...             0.0   \n",
       "624       0.0       0.0  1.037534  0.000000     ...             0.0   \n",
       "\n",
       "     feature119  feature120  feature121  feature122  feature123  feature124  \\\n",
       "620         0.0    0.100832         0.0         0.0         0.0    0.436314   \n",
       "621         0.0    0.069267         0.0         0.0         0.0    0.312130   \n",
       "622         0.0    0.000000         0.0         0.0         0.0    0.186530   \n",
       "623         0.0    0.098884         0.0         0.0         0.0    0.081664   \n",
       "624         0.0    0.000000         0.0         0.0         0.0    0.090246   \n",
       "\n",
       "     feature125  feature126  feature127  \n",
       "620         0.0    0.492902         0.0  \n",
       "621         0.0    0.387916         0.0  \n",
       "622         0.0    0.455350         0.0  \n",
       "623         0.0    0.454245         0.0  \n",
       "624         0.0    0.382102         0.0  \n",
       "\n",
       "[5 rows x 130 columns]"
      ]
     },
     "execution_count": 262,
     "metadata": {},
     "output_type": "execute_result"
    }
   ],
   "source": [
    "df_8m.tail()"
   ]
  },
  {
   "cell_type": "code",
   "execution_count": null,
   "metadata": {},
   "outputs": [],
   "source": []
  },
  {
   "cell_type": "code",
   "execution_count": 263,
   "metadata": {},
   "outputs": [
    {
     "data": {
      "text/plain": [
       "(625, 130)"
      ]
     },
     "execution_count": 263,
     "metadata": {},
     "output_type": "execute_result"
    }
   ],
   "source": [
    "df_8m.shape"
   ]
  },
  {
   "cell_type": "code",
   "execution_count": 264,
   "metadata": {},
   "outputs": [],
   "source": [
    "df_8m_log = df_8m[logistic_features]"
   ]
  },
  {
   "cell_type": "code",
   "execution_count": 265,
   "metadata": {},
   "outputs": [],
   "source": [
    "yt8m_rows_selected = []\n",
    "yt8m_rows_selected_cosine = []"
   ]
  },
  {
   "cell_type": "code",
   "execution_count": 266,
   "metadata": {},
   "outputs": [
    {
     "data": {
      "text/plain": [
       "feature7     0.000000\n",
       "feature15    1.133957\n",
       "feature19    0.374565\n",
       "feature25    0.502693\n",
       "feature27    0.292413\n",
       "feature33    0.000000\n",
       "feature42    0.673598\n",
       "feature44    0.622310\n",
       "feature47    0.000000\n",
       "feature49    0.000000\n",
       "feature70    0.000000\n",
       "feature72    0.000000\n",
       "feature77    0.000000\n",
       "feature81    1.029591\n",
       "feature85    0.198672\n",
       "feature86    0.652134\n",
       "feature89    0.240396\n",
       "feature93    0.881775\n",
       "feature94    0.054436\n",
       "feature95    0.531172\n",
       "Name: 1, dtype: float32"
      ]
     },
     "execution_count": 266,
     "metadata": {},
     "output_type": "execute_result"
    }
   ],
   "source": [
    "df_8m_log.loc[1,:]"
   ]
  },
  {
   "cell_type": "code",
   "execution_count": 267,
   "metadata": {},
   "outputs": [],
   "source": [
    "for i in df_8m_log.index:\n",
    "    cosin_dist = scipy.spatial.distance.cosine(df_8m_log.loc[i,:],average_detected_gesture)\n",
    "    if cosin_dist >= 0.1:\n",
    "        yt8m_rows_selected.append(i)\n",
    "        yt8m_rows_selected_cosine.append(cosin_dist)"
   ]
  },
  {
   "cell_type": "code",
   "execution_count": 268,
   "metadata": {},
   "outputs": [],
   "source": [
    "yt8m_rows_selected = np.array(yt8m_rows_selected)"
   ]
  },
  {
   "cell_type": "code",
   "execution_count": 269,
   "metadata": {},
   "outputs": [],
   "source": [
    "yt8m_rows_selected_sorted = yt8m_rows_selected[np.argsort(yt8m_rows_selected_cosine)]"
   ]
  },
  {
   "cell_type": "code",
   "execution_count": 271,
   "metadata": {},
   "outputs": [],
   "source": [
    "df_8m_top = df_8m.loc[yt8m_rows_selected_sorted,:]"
   ]
  },
  {
   "cell_type": "code",
   "execution_count": 287,
   "metadata": {},
   "outputs": [
    {
     "data": {
      "text/plain": [
       "(148, 130)"
      ]
     },
     "execution_count": 287,
     "metadata": {},
     "output_type": "execute_result"
    }
   ],
   "source": [
    "df_8m_top.shape"
   ]
  },
  {
   "cell_type": "code",
   "execution_count": 295,
   "metadata": {
    "scrolled": true
   },
   "outputs": [
    {
     "name": "stdout",
     "output_type": "stream",
     "text": [
      "j2JoL0Bmx4M\n",
      "001j2JoL0Bmx4M3.wav\n",
      "yVwt49os4F0\n",
      "002yVwt49os4F06.wav\n",
      "mEslZvugQCc\n",
      "003mEslZvugQCc9.wav\n",
      "j2JoL0Bmx4M\n",
      "004j2JoL0Bmx4M7.wav\n",
      "GnmgSQq6E54\n",
      "005GnmgSQq6E547.wav\n",
      "72RI4phr0F8\n",
      "00672RI4phr0F83.wav\n",
      "sKglR9n1aFg\n",
      "007sKglR9n1aFg3.wav\n",
      "JbPNmYKs7P0\n",
      "008JbPNmYKs7P02.wav\n",
      "A7wdgVaqhPI\n",
      "009A7wdgVaqhPI5.wav\n",
      "9wkgTdE7nz8\n",
      "0109wkgTdE7nz85.wav\n",
      "wZopmfXTtxw\n",
      "011wZopmfXTtxw8.wav\n",
      "_bAVmK7n0fs\n",
      "012_bAVmK7n0fs3.wav\n",
      "Sv9Pm4AburQ\n",
      "013Sv9Pm4AburQ4.wav\n",
      "mh6JxDJ0Bno\n",
      "014mh6JxDJ0Bno3.wav\n",
      "7oHaG3Ez5-4\n",
      "0157oHaG3Ez5-48.wav\n",
      "jMDHWwO-1fY\n",
      "016jMDHWwO-1fY6.wav\n",
      "X2IUVELRuzs\n",
      "017X2IUVELRuzs3.wav\n",
      "72RI4phr0F8\n",
      "01872RI4phr0F87.wav\n",
      "5kQF4r03yRI\n",
      "0195kQF4r03yRI1.wav\n",
      "M8BaWFyXNqA\n",
      "020M8BaWFyXNqA8.wav\n",
      "wZopmfXTtxw\n",
      "021wZopmfXTtxw5.wav\n",
      "_3ZOigx8e3c\n",
      "022_3ZOigx8e3c1.wav\n",
      "_bAVmK7n0fs\n",
      "023_bAVmK7n0fs1.wav\n",
      "9wkgTdE7nz8\n",
      "0249wkgTdE7nz80.wav\n",
      "A7wdgVaqhPI\n",
      "025A7wdgVaqhPI0.wav\n",
      "X2IUVELRuzs\n",
      "026X2IUVELRuzs5.wav\n",
      "QNRche7AZkM\n",
      "027QNRche7AZkM9.wav\n",
      "72RI4phr0F8\n",
      "02872RI4phr0F80.wav\n",
      "mZ_z2lorJeY\n",
      "029mZ_z2lorJeY3.wav\n",
      "OVhPqvG0ezA\n",
      "030OVhPqvG0ezA3.wav\n",
      "wZopmfXTtxw\n",
      "031wZopmfXTtxw7.wav\n",
      "j2JoL0Bmx4M\n",
      "032j2JoL0Bmx4M8.wav\n",
      "vGxfIpG97dU\n",
      "033vGxfIpG97dU5.wav\n",
      "OYkZxbD0vr8\n",
      "034OYkZxbD0vr87.wav\n",
      "yVwt49os4F0\n",
      "035yVwt49os4F02.wav\n",
      "mh6JxDJ0Bno\n",
      "036mh6JxDJ0Bno0.wav\n",
      "mEslZvugQCc\n",
      "037mEslZvugQCc7.wav\n",
      "LsBCiA7jkHI\n",
      "038LsBCiA7jkHI3.wav\n",
      "OVhPqvG0ezA\n",
      "039OVhPqvG0ezA2.wav\n",
      "jMDHWwO-1fY\n",
      "040jMDHWwO-1fY9.wav\n",
      "cGUhG5PZp0A\n",
      "041cGUhG5PZp0A2.wav\n",
      "XIW8Ai-YMdA\n",
      "042XIW8Ai-YMdA1.wav\n",
      "DB38NRSHw9A\n",
      "043DB38NRSHw9A5.wav\n",
      "0QabiRBcEKc\n",
      "0440QabiRBcEKc9.wav\n",
      "sKglR9n1aFg\n",
      "045sKglR9n1aFg5.wav\n",
      "MKocTMZZnTs\n",
      "046MKocTMZZnTs4.wav\n",
      "jMDHWwO-1fY\n",
      "047jMDHWwO-1fY7.wav\n",
      "MKocTMZZnTs\n",
      "048MKocTMZZnTs5.wav\n",
      "JbPNmYKs7P0\n",
      "049JbPNmYKs7P06.wav\n",
      "_3ZOigx8e3c\n",
      "050_3ZOigx8e3c3.wav\n",
      "AHoWincIkzc\n",
      "051AHoWincIkzc9.wav\n",
      "AHoWincIkzc\n",
      "052AHoWincIkzc2.wav\n",
      "9cYVBOJmXIw\n",
      "0539cYVBOJmXIw8.wav\n",
      "AHoWincIkzc\n",
      "054AHoWincIkzc4.wav\n",
      "An32hX6i1gs\n",
      "055An32hX6i1gs2.wav\n",
      "OYkZxbD0vr8\n",
      "056OYkZxbD0vr89.wav\n",
      "j2JoL0Bmx4M\n",
      "057j2JoL0Bmx4M6.wav\n",
      "yXeKrbtMz2M\n",
      "058yXeKrbtMz2M1.wav\n",
      "72RI4phr0F8\n",
      "05972RI4phr0F89.wav\n",
      "LsBCiA7jkHI\n",
      "060LsBCiA7jkHI7.wav\n",
      "cE5Yihyqup4\n",
      "061cE5Yihyqup47.wav\n",
      "LsBCiA7jkHI\n",
      "062LsBCiA7jkHI4.wav\n",
      "MKocTMZZnTs\n",
      "063MKocTMZZnTs8.wav\n",
      "AHoWincIkzc\n",
      "064AHoWincIkzc7.wav\n",
      "9cYVBOJmXIw\n",
      "0659cYVBOJmXIw7.wav\n",
      "LEZFcGFwJlc\n",
      "066LEZFcGFwJlc6.wav\n",
      "9cYVBOJmXIw\n",
      "0679cYVBOJmXIw1.wav\n",
      "cE5Yihyqup4\n",
      "068cE5Yihyqup49.wav\n",
      "JbPNmYKs7P0\n",
      "069JbPNmYKs7P03.wav\n",
      "_3ZOigx8e3c\n",
      "070_3ZOigx8e3c0.wav\n",
      "LEZFcGFwJlc\n",
      "071LEZFcGFwJlc1.wav\n",
      "AHoWincIkzc\n",
      "072AHoWincIkzc5.wav\n",
      "LsBCiA7jkHI\n",
      "073LsBCiA7jkHI1.wav\n",
      "bO6gUBBcniY\n",
      "074bO6gUBBcniY8.wav\n",
      "mh6JxDJ0Bno\n",
      "075mh6JxDJ0Bno1.wav\n",
      "AHoWincIkzc\n",
      "076AHoWincIkzc8.wav\n",
      "72RI4phr0F8\n",
      "07772RI4phr0F81.wav\n",
      "bO6gUBBcniY\n",
      "078bO6gUBBcniY9.wav\n",
      "Arp482w8r_s\n",
      "079Arp482w8r_s6.wav\n",
      "Arp482w8r_s\n",
      "080Arp482w8r_s4.wav\n",
      "MKocTMZZnTs\n",
      "081MKocTMZZnTs9.wav\n",
      "yXeKrbtMz2M\n",
      "082yXeKrbtMz2M6.wav\n",
      "MKocTMZZnTs\n",
      "083MKocTMZZnTs1.wav\n",
      "_3ZOigx8e3c\n",
      "084_3ZOigx8e3c2.wav\n",
      "cE5Yihyqup4\n",
      "085cE5Yihyqup43.wav\n",
      "X2IUVELRuzs\n",
      "086X2IUVELRuzs4.wav\n",
      "LsBCiA7jkHI\n",
      "087LsBCiA7jkHI5.wav\n",
      "9cYVBOJmXIw\n",
      "0889cYVBOJmXIw6.wav\n",
      "j2JoL0Bmx4M\n",
      "089j2JoL0Bmx4M2.wav\n",
      "MKocTMZZnTs\n",
      "090MKocTMZZnTs2.wav\n",
      "0QabiRBcEKc\n",
      "0910QabiRBcEKc6.wav\n",
      "OYkZxbD0vr8\n",
      "092OYkZxbD0vr84.wav\n",
      "Arp482w8r_s\n",
      "093Arp482w8r_s8.wav\n",
      "LsBCiA7jkHI\n",
      "094LsBCiA7jkHI6.wav\n",
      "0QabiRBcEKc\n",
      "0950QabiRBcEKc4.wav\n",
      "0QabiRBcEKc\n",
      "0960QabiRBcEKc1.wav\n",
      "AHoWincIkzc\n",
      "097AHoWincIkzc3.wav\n",
      "An32hX6i1gs\n",
      "098An32hX6i1gs3.wav\n",
      "Arp482w8r_s\n",
      "099Arp482w8r_s3.wav\n",
      "j2JoL0Bmx4M\n",
      "100j2JoL0Bmx4M1.wav\n",
      "LEZFcGFwJlc\n",
      "101LEZFcGFwJlc7.wav\n",
      "Arp482w8r_s\n",
      "102Arp482w8r_s0.wav\n",
      "An32hX6i1gs\n",
      "103An32hX6i1gs1.wav\n",
      "AHoWincIkzc\n",
      "104AHoWincIkzc6.wav\n",
      "JbPNmYKs7P0\n",
      "105JbPNmYKs7P05.wav\n",
      "LEZFcGFwJlc\n",
      "106LEZFcGFwJlc3.wav\n",
      "0QabiRBcEKc\n",
      "1070QabiRBcEKc3.wav\n",
      "JbPNmYKs7P0\n",
      "108JbPNmYKs7P07.wav\n",
      "LEZFcGFwJlc\n",
      "109LEZFcGFwJlc9.wav\n",
      "0QabiRBcEKc\n",
      "1100QabiRBcEKc8.wav\n",
      "mZ_z2lorJeY\n",
      "111mZ_z2lorJeY2.wav\n",
      "0QabiRBcEKc\n",
      "1120QabiRBcEKc5.wav\n",
      "yXeKrbtMz2M\n",
      "113yXeKrbtMz2M7.wav\n",
      "0QabiRBcEKc\n",
      "1140QabiRBcEKc2.wav\n",
      "cE5Yihyqup4\n",
      "115cE5Yihyqup44.wav\n",
      "mZ_z2lorJeY\n",
      "116mZ_z2lorJeY9.wav\n",
      "LEZFcGFwJlc\n",
      "117LEZFcGFwJlc5.wav\n",
      "LEZFcGFwJlc\n",
      "118LEZFcGFwJlc8.wav\n",
      "0QabiRBcEKc\n",
      "1190QabiRBcEKc0.wav\n",
      "0QabiRBcEKc\n",
      "1200QabiRBcEKc7.wav\n",
      "9cYVBOJmXIw\n",
      "1219cYVBOJmXIw2.wav\n",
      "X2IUVELRuzs\n",
      "122X2IUVELRuzs1.wav\n",
      "LsBCiA7jkHI\n",
      "123LsBCiA7jkHI0.wav\n",
      "72RI4phr0F8\n",
      "12472RI4phr0F88.wav\n",
      "Arp482w8r_s\n",
      "125Arp482w8r_s1.wav\n",
      "LsBCiA7jkHI\n",
      "126LsBCiA7jkHI8.wav\n",
      "72RI4phr0F8\n",
      "12772RI4phr0F85.wav\n",
      "mEslZvugQCc\n",
      "128mEslZvugQCc3.wav\n",
      "mZ_z2lorJeY\n",
      "129mZ_z2lorJeY8.wav\n",
      "72RI4phr0F8\n",
      "13072RI4phr0F86.wav\n",
      "72RI4phr0F8\n",
      "13172RI4phr0F84.wav\n",
      "mEslZvugQCc\n",
      "132mEslZvugQCc1.wav\n",
      "X2IUVELRuzs\n",
      "133X2IUVELRuzs2.wav\n",
      "Arp482w8r_s\n",
      "134Arp482w8r_s2.wav\n",
      "PNCwMnNW-jw\n",
      "135PNCwMnNW-jw1.wav\n",
      "cE5Yihyqup4\n",
      "136cE5Yihyqup46.wav\n",
      "mEslZvugQCc\n",
      "137mEslZvugQCc5.wav\n",
      "H85puQUqrQY\n",
      "138H85puQUqrQY9.wav\n",
      "mEslZvugQCc\n",
      "139mEslZvugQCc4.wav\n",
      "JbPNmYKs7P0\n",
      "140JbPNmYKs7P09.wav\n",
      "PNCwMnNW-jw\n",
      "141PNCwMnNW-jw0.wav\n",
      "LsBCiA7jkHI\n",
      "142LsBCiA7jkHI9.wav\n",
      "H85puQUqrQY\n",
      "143H85puQUqrQY6.wav\n",
      "5kQF4r03yRI\n",
      "1445kQF4r03yRI4.wav\n",
      "MW0ZTvRCS1o\n",
      "145MW0ZTvRCS1o2.wav\n",
      "MW0ZTvRCS1o\n",
      "146MW0ZTvRCS1o1.wav\n",
      "JbPNmYKs7P0\n",
      "147JbPNmYKs7P08.wav\n",
      "5kQF4r03yRI\n",
      "1485kQF4r03yRI0.wav\n"
     ]
    }
   ],
   "source": [
    "rank = 1\n",
    "for i in df_8m_top.index:\n",
    "    vidId = df_8m_top.loc[i,\"video_id\"]\n",
    "    print(vidId)\n",
    "    start_second = df_8m_top.loc[i,\"start_second\"]\n",
    "    a = os.system(\"ffmpeg -ss {} -t {} -i {} {}\".format(start_second,1,\"youtube8m/\"+vidId+\".wav\",\"yt8m_similar/\"+\"{0:03}\".format(rank)+vidId+str(start_second)+\".wav\"))\n",
    "    print(\"{0:03}\".format(rank)+vidId+str(start_second)+\".wav\")\n",
    "    rank += 1"
   ]
  },
  {
   "cell_type": "code",
   "execution_count": 286,
   "metadata": {},
   "outputs": [
    {
     "data": {
      "text/plain": [
       "149"
      ]
     },
     "execution_count": 286,
     "metadata": {},
     "output_type": "execute_result"
    }
   ],
   "source": [
    "rank"
   ]
  },
  {
   "cell_type": "code",
   "execution_count": null,
   "metadata": {},
   "outputs": [],
   "source": []
  },
  {
   "cell_type": "markdown",
   "metadata": {},
   "source": [
    "## find least similar rows"
   ]
  },
  {
   "cell_type": "code",
   "execution_count": 346,
   "metadata": {},
   "outputs": [],
   "source": [
    "yt8m_rows_selected = []\n",
    "yt8m_rows_selected_cosine = []"
   ]
  },
  {
   "cell_type": "code",
   "execution_count": 347,
   "metadata": {},
   "outputs": [],
   "source": [
    "for i in df_8m_log.index:\n",
    "    cosin_dist = scipy.spatial.distance.cosine(df_8m_log.loc[i,:],average_detected_gesture)\n",
    "    if cosin_dist <= 0.04:\n",
    "        yt8m_rows_selected.append(i)\n",
    "        yt8m_rows_selected_cosine.append(cosin_dist)"
   ]
  },
  {
   "cell_type": "code",
   "execution_count": 348,
   "metadata": {},
   "outputs": [],
   "source": [
    "yt8m_rows_selected = np.array(yt8m_rows_selected)"
   ]
  },
  {
   "cell_type": "code",
   "execution_count": 356,
   "metadata": {},
   "outputs": [
    {
     "data": {
      "text/plain": [
       "array([59, 13, 87, 66, 38, 50, 65,  3, 32, 27, 18, 34, 16,  9, 61, 12, 26,\n",
       "       35, 15, 55, 20, 31, 45, 70, 58, 17, 11, 23,  5, 49, 60, 25,  8, 86,\n",
       "       47, 77, 46,  1, 29, 68,  7, 53, 69, 43, 85, 21, 33, 41, 52, 74, 78,\n",
       "       36, 39, 67, 28, 56, 62, 73, 10, 30, 48,  6, 64, 19, 84, 40, 37, 57,\n",
       "       76, 82, 75, 72, 81, 24, 80, 22, 71,  0, 44, 63, 79,  4, 14, 42, 54,\n",
       "       83, 51,  2])"
      ]
     },
     "execution_count": 356,
     "metadata": {},
     "output_type": "execute_result"
    }
   ],
   "source": [
    "np.flip(np.argsort(yt8m_rows_selected_cosine),axis=0)"
   ]
  },
  {
   "cell_type": "code",
   "execution_count": 357,
   "metadata": {},
   "outputs": [],
   "source": [
    "yt8m_rows_selected_sorted = yt8m_rows_selected[np.flip(np.argsort(yt8m_rows_selected_cosine),axis=0)]"
   ]
  },
  {
   "cell_type": "code",
   "execution_count": 361,
   "metadata": {},
   "outputs": [],
   "source": [
    "df_8m_top = df_8m.loc[yt8m_rows_selected_sorted,:]"
   ]
  },
  {
   "cell_type": "code",
   "execution_count": 362,
   "metadata": {},
   "outputs": [
    {
     "data": {
      "text/plain": [
       "(88, 130)"
      ]
     },
     "execution_count": 362,
     "metadata": {},
     "output_type": "execute_result"
    }
   ],
   "source": [
    "df_8m_top.shape"
   ]
  },
  {
   "cell_type": "code",
   "execution_count": 363,
   "metadata": {},
   "outputs": [
    {
     "name": "stdout",
     "output_type": "stream",
     "text": [
      "OYkZxbD0vr8\n",
      "001OYkZxbD0vr81.wav\n",
      "MY0PsDE3xHs\n",
      "002MY0PsDE3xHs2.wav\n",
      "YuvmP7Lsr2k\n",
      "003YuvmP7Lsr2k7.wav\n",
      "sKglR9n1aFg\n",
      "004sKglR9n1aFg0.wav\n",
      "hYk2rw9wcXc\n",
      "005hYk2rw9wcXc5.wav\n",
      "7oHaG3Ez5-4\n",
      "0067oHaG3Ez5-41.wav\n",
      "W4acKG-KSTE\n",
      "007W4acKG-KSTE8.wav\n",
      "Fihamhv6TJo\n",
      "008Fihamhv6TJo4.wav\n",
      "PNCwMnNW-jw\n",
      "009PNCwMnNW-jw9.wav\n",
      "EMLpB_ZP0c0\n",
      "010EMLpB_ZP0c06.wav\n",
      "JLKsLx_SGOU\n",
      "011JLKsLx_SGOU0.wav\n",
      "MW0ZTvRCS1o\n",
      "012MW0ZTvRCS1o5.wav\n",
      "X2IUVELRuzs\n",
      "013X2IUVELRuzs9.wav\n",
      "1OFDyTzUj24\n",
      "0141OFDyTzUj247.wav\n",
      "H85puQUqrQY\n",
      "015H85puQUqrQY5.wav\n",
      "T-8xETNgtvE\n",
      "016T-8xETNgtvE8.wav\n",
      "EMLpB_ZP0c0\n",
      "017EMLpB_ZP0c05.wav\n",
      "MW0ZTvRCS1o\n",
      "018MW0ZTvRCS1o6.wav\n",
      "X2IUVELRuzs\n",
      "019X2IUVELRuzs7.wav\n",
      "tPE0GmzqkRY\n",
      "020tPE0GmzqkRY7.wav\n",
      "JLKsLx_SGOU\n",
      "021JLKsLx_SGOU3.wav\n",
      "PNCwMnNW-jw\n",
      "022PNCwMnNW-jw4.wav\n",
      "BuIMVqz85uk\n",
      "023BuIMVqz85uk7.wav\n",
      "guRyU4B5LlA\n",
      "024guRyU4B5LlA5.wav\n",
      "XIW8Ai-YMdA\n",
      "025XIW8Ai-YMdA8.wav\n",
      "_bAVmK7n0fs\n",
      "026_bAVmK7n0fs9.wav\n",
      "T-8xETNgtvE\n",
      "027T-8xETNgtvE7.wav\n",
      "JLKsLx_SGOU\n",
      "028JLKsLx_SGOU7.wav\n",
      "GnmgSQq6E54\n",
      "029GnmgSQq6E548.wav\n",
      "M8BaWFyXNqA\n",
      "030M8BaWFyXNqA9.wav\n",
      "OYkZxbD0vr8\n",
      "031OYkZxbD0vr85.wav\n",
      "EMLpB_ZP0c0\n",
      "032EMLpB_ZP0c04.wav\n",
      "1OFDyTzUj24\n",
      "0331OFDyTzUj246.wav\n",
      "YuvmP7Lsr2k\n",
      "034YuvmP7Lsr2k6.wav\n",
      "JbPNmYKs7P0\n",
      "035JbPNmYKs7P00.wav\n",
      "gPaoJv-NrEU\n",
      "036gPaoJv-NrEU8.wav\n",
      "BuIMVqz85uk\n",
      "037BuIMVqz85uk8.wav\n",
      "QNRche7AZkM\n",
      "038QNRche7AZkM3.wav\n",
      "A7wdgVaqhPI\n",
      "039A7wdgVaqhPI6.wav\n",
      "9wkgTdE7nz8\n",
      "0409wkgTdE7nz86.wav\n",
      "1OFDyTzUj24\n",
      "0411OFDyTzUj242.wav\n",
      "tPE0GmzqkRY\n",
      "042tPE0GmzqkRY4.wav\n",
      "guRyU4B5LlA\n",
      "043guRyU4B5LlA3.wav\n",
      "BuIMVqz85uk\n",
      "044BuIMVqz85uk4.wav\n",
      "jMDHWwO-1fY\n",
      "045jMDHWwO-1fY1.wav\n",
      "JLKsLx_SGOU\n",
      "046JLKsLx_SGOU5.wav\n",
      "MW0ZTvRCS1o\n",
      "047MW0ZTvRCS1o4.wav\n",
      "OVhPqvG0ezA\n",
      "048OVhPqvG0ezA8.wav\n",
      "tPE0GmzqkRY\n",
      "049tPE0GmzqkRY1.wav\n",
      "gPaoJv-NrEU\n",
      "050gPaoJv-NrEU4.wav\n",
      "Ky8aKwI522Q\n",
      "051Ky8aKwI522Q9.wav\n",
      "MW0ZTvRCS1o\n",
      "052MW0ZTvRCS1o9.wav\n",
      "ENCPkF4K9zU\n",
      "053ENCPkF4K9zU2.wav\n",
      "9wkgTdE7nz8\n",
      "0549wkgTdE7nz81.wav\n",
      "A7wdgVaqhPI\n",
      "055A7wdgVaqhPI1.wav\n",
      "tPE0GmzqkRY\n",
      "056tPE0GmzqkRY9.wav\n",
      "W4acKG-KSTE\n",
      "057W4acKG-KSTE0.wav\n",
      "gPaoJv-NrEU\n",
      "058gPaoJv-NrEU3.wav\n",
      "1OFDyTzUj24\n",
      "0591OFDyTzUj248.wav\n",
      "PNCwMnNW-jw\n",
      "060PNCwMnNW-jw2.wav\n",
      "M8BaWFyXNqA\n",
      "061M8BaWFyXNqA6.wav\n",
      "GnmgSQq6E54\n",
      "062GnmgSQq6E549.wav\n",
      "W4acKG-KSTE\n",
      "063W4acKG-KSTE6.wav\n",
      "JLKsLx_SGOU\n",
      "064JLKsLx_SGOU1.wav\n",
      "jMDHWwO-1fY\n",
      "065jMDHWwO-1fY0.wav\n",
      "OVhPqvG0ezA\n",
      "066OVhPqvG0ezA6.wav\n",
      "hYk2rw9wcXc\n",
      "067hYk2rw9wcXc4.wav\n",
      "XIW8Ai-YMdA\n",
      "068XIW8Ai-YMdA5.wav\n",
      "gPaoJv-NrEU\n",
      "069gPaoJv-NrEU7.wav\n",
      "mEslZvugQCc\n",
      "070mEslZvugQCc6.wav\n",
      "gPaoJv-NrEU\n",
      "071gPaoJv-NrEU5.wav\n",
      "gPaoJv-NrEU\n",
      "072gPaoJv-NrEU1.wav\n",
      "GD1vgJwYR4Q\n",
      "073GD1vgJwYR4Q8.wav\n",
      "EMLpB_ZP0c0\n",
      "074EMLpB_ZP0c02.wav\n",
      "GD1vgJwYR4Q\n",
      "075GD1vgJwYR4Q5.wav\n",
      "JLKsLx_SGOU\n",
      "076JLKsLx_SGOU6.wav\n",
      "gPaoJv-NrEU\n",
      "077gPaoJv-NrEU0.wav\n",
      "QNRche7AZkM\n",
      "078QNRche7AZkM2.wav\n",
      "BuIMVqz85uk\n",
      "079BuIMVqz85uk6.wav\n",
      "W4acKG-KSTE\n",
      "080W4acKG-KSTE2.wav\n",
      "yXeKrbtMz2M\n",
      "081yXeKrbtMz2M9.wav\n",
      "GnmgSQq6E54\n",
      "082GnmgSQq6E542.wav\n",
      "MY0PsDE3xHs\n",
      "083MY0PsDE3xHs7.wav\n",
      "OVhPqvG0ezA\n",
      "084OVhPqvG0ezA9.wav\n",
      "tPE0GmzqkRY\n",
      "085tPE0GmzqkRY5.wav\n",
      "mEslZvugQCc\n",
      "086mEslZvugQCc8.wav\n",
      "tPE0GmzqkRY\n",
      "087tPE0GmzqkRY0.wav\n",
      "QNRche7AZkM\n",
      "088QNRche7AZkM4.wav\n"
     ]
    }
   ],
   "source": [
    "rank = 1\n",
    "for i in df_8m_top.index:\n",
    "    vidId = df_8m_top.loc[i,\"video_id\"]\n",
    "    print(vidId)\n",
    "    start_second = df_8m_top.loc[i,\"start_second\"]\n",
    "    a = os.system(\"ffmpeg -ss {} -t {} -i {} {}\".format(start_second,1,\"youtube8m/\"+vidId+\".wav\",\"yt8m_least_similar/\"+\"{0:03}\".format(rank)+vidId+str(start_second)+\".wav\"))\n",
    "    print(\"{0:03}\".format(rank)+vidId+str(start_second)+\".wav\")\n",
    "    rank += 1"
   ]
  },
  {
   "cell_type": "markdown",
   "metadata": {},
   "source": [
    "## try to find how scores to on detected and non detected gestures"
   ]
  },
  {
   "cell_type": "code",
   "execution_count": 155,
   "metadata": {},
   "outputs": [],
   "source": [
    "#frame numbers of questions\n",
    "framestamps = np.array([1410 ,2160 ,3180 ,3630 ,5730 ,6720 ])"
   ]
  },
  {
   "cell_type": "code",
   "execution_count": 156,
   "metadata": {},
   "outputs": [],
   "source": [
    "timestamps = framestamps/30"
   ]
  },
  {
   "cell_type": "code",
   "execution_count": 157,
   "metadata": {},
   "outputs": [
    {
     "data": {
      "text/plain": [
       "array([ 47.,  72., 106., 121., 191., 224.])"
      ]
     },
     "execution_count": 157,
     "metadata": {},
     "output_type": "execute_result"
    }
   ],
   "source": [
    "timestamps"
   ]
  },
  {
   "cell_type": "code",
   "execution_count": 158,
   "metadata": {},
   "outputs": [],
   "source": [
    "test = df_final.iloc[timestamps,:]"
   ]
  },
  {
   "cell_type": "code",
   "execution_count": 159,
   "metadata": {},
   "outputs": [],
   "source": [
    "train_indexes = ~df_final.index.isin(timestamps)"
   ]
  },
  {
   "cell_type": "code",
   "execution_count": 160,
   "metadata": {},
   "outputs": [],
   "source": [
    "train = df_final[train_indexes]"
   ]
  },
  {
   "cell_type": "code",
   "execution_count": 161,
   "metadata": {},
   "outputs": [],
   "source": [
    "train_X,train_y = train[features],train[\"gesture_detected\"]"
   ]
  },
  {
   "cell_type": "code",
   "execution_count": 162,
   "metadata": {},
   "outputs": [],
   "source": [
    "test_X,test_y = test[features],test[\"gesture_detected\"]"
   ]
  },
  {
   "cell_type": "code",
   "execution_count": 163,
   "metadata": {},
   "outputs": [
    {
     "data": {
      "text/html": [
       "<div>\n",
       "<style scoped>\n",
       "    .dataframe tbody tr th:only-of-type {\n",
       "        vertical-align: middle;\n",
       "    }\n",
       "\n",
       "    .dataframe tbody tr th {\n",
       "        vertical-align: top;\n",
       "    }\n",
       "\n",
       "    .dataframe thead th {\n",
       "        text-align: right;\n",
       "    }\n",
       "</style>\n",
       "<table border=\"1\" class=\"dataframe\">\n",
       "  <thead>\n",
       "    <tr style=\"text-align: right;\">\n",
       "      <th></th>\n",
       "      <th>feature0</th>\n",
       "      <th>feature1</th>\n",
       "      <th>feature2</th>\n",
       "      <th>feature3</th>\n",
       "      <th>feature4</th>\n",
       "      <th>feature5</th>\n",
       "      <th>feature6</th>\n",
       "      <th>feature7</th>\n",
       "      <th>feature8</th>\n",
       "      <th>feature9</th>\n",
       "      <th>...</th>\n",
       "      <th>feature118</th>\n",
       "      <th>feature119</th>\n",
       "      <th>feature120</th>\n",
       "      <th>feature121</th>\n",
       "      <th>feature122</th>\n",
       "      <th>feature123</th>\n",
       "      <th>feature124</th>\n",
       "      <th>feature125</th>\n",
       "      <th>feature126</th>\n",
       "      <th>feature127</th>\n",
       "    </tr>\n",
       "  </thead>\n",
       "  <tbody>\n",
       "    <tr>\n",
       "      <th>47</th>\n",
       "      <td>0.0</td>\n",
       "      <td>0.023563</td>\n",
       "      <td>0.940871</td>\n",
       "      <td>0.0</td>\n",
       "      <td>0.0</td>\n",
       "      <td>0.0</td>\n",
       "      <td>0.232757</td>\n",
       "      <td>0.160532</td>\n",
       "      <td>0.0</td>\n",
       "      <td>0.0</td>\n",
       "      <td>...</td>\n",
       "      <td>0.0</td>\n",
       "      <td>0.0</td>\n",
       "      <td>0.000000</td>\n",
       "      <td>0.0</td>\n",
       "      <td>0.0</td>\n",
       "      <td>0.0000</td>\n",
       "      <td>0.148817</td>\n",
       "      <td>0.0</td>\n",
       "      <td>0.370461</td>\n",
       "      <td>0.062253</td>\n",
       "    </tr>\n",
       "    <tr>\n",
       "      <th>72</th>\n",
       "      <td>0.0</td>\n",
       "      <td>0.000000</td>\n",
       "      <td>0.785413</td>\n",
       "      <td>0.0</td>\n",
       "      <td>0.0</td>\n",
       "      <td>0.0</td>\n",
       "      <td>0.000000</td>\n",
       "      <td>0.000000</td>\n",
       "      <td>0.0</td>\n",
       "      <td>0.0</td>\n",
       "      <td>...</td>\n",
       "      <td>0.0</td>\n",
       "      <td>0.0</td>\n",
       "      <td>0.000000</td>\n",
       "      <td>0.0</td>\n",
       "      <td>0.0</td>\n",
       "      <td>0.0692</td>\n",
       "      <td>0.117243</td>\n",
       "      <td>0.0</td>\n",
       "      <td>0.000000</td>\n",
       "      <td>0.000000</td>\n",
       "    </tr>\n",
       "    <tr>\n",
       "      <th>106</th>\n",
       "      <td>0.0</td>\n",
       "      <td>0.104077</td>\n",
       "      <td>0.249532</td>\n",
       "      <td>0.0</td>\n",
       "      <td>0.0</td>\n",
       "      <td>0.0</td>\n",
       "      <td>0.272323</td>\n",
       "      <td>0.018525</td>\n",
       "      <td>0.0</td>\n",
       "      <td>0.0</td>\n",
       "      <td>...</td>\n",
       "      <td>0.0</td>\n",
       "      <td>0.0</td>\n",
       "      <td>0.013792</td>\n",
       "      <td>0.0</td>\n",
       "      <td>0.0</td>\n",
       "      <td>0.0000</td>\n",
       "      <td>0.255551</td>\n",
       "      <td>0.0</td>\n",
       "      <td>0.382913</td>\n",
       "      <td>0.013020</td>\n",
       "    </tr>\n",
       "    <tr>\n",
       "      <th>121</th>\n",
       "      <td>0.0</td>\n",
       "      <td>0.000000</td>\n",
       "      <td>0.212845</td>\n",
       "      <td>0.0</td>\n",
       "      <td>0.0</td>\n",
       "      <td>0.0</td>\n",
       "      <td>0.340554</td>\n",
       "      <td>0.000000</td>\n",
       "      <td>0.0</td>\n",
       "      <td>0.0</td>\n",
       "      <td>...</td>\n",
       "      <td>0.0</td>\n",
       "      <td>0.0</td>\n",
       "      <td>0.000000</td>\n",
       "      <td>0.0</td>\n",
       "      <td>0.0</td>\n",
       "      <td>0.0000</td>\n",
       "      <td>0.176950</td>\n",
       "      <td>0.0</td>\n",
       "      <td>0.370093</td>\n",
       "      <td>0.000000</td>\n",
       "    </tr>\n",
       "    <tr>\n",
       "      <th>191</th>\n",
       "      <td>0.0</td>\n",
       "      <td>0.000000</td>\n",
       "      <td>0.532508</td>\n",
       "      <td>0.0</td>\n",
       "      <td>0.0</td>\n",
       "      <td>0.0</td>\n",
       "      <td>0.056741</td>\n",
       "      <td>0.013445</td>\n",
       "      <td>0.0</td>\n",
       "      <td>0.0</td>\n",
       "      <td>...</td>\n",
       "      <td>0.0</td>\n",
       "      <td>0.0</td>\n",
       "      <td>0.000000</td>\n",
       "      <td>0.0</td>\n",
       "      <td>0.0</td>\n",
       "      <td>0.0000</td>\n",
       "      <td>0.010354</td>\n",
       "      <td>0.0</td>\n",
       "      <td>0.202845</td>\n",
       "      <td>0.178390</td>\n",
       "    </tr>\n",
       "    <tr>\n",
       "      <th>224</th>\n",
       "      <td>0.0</td>\n",
       "      <td>0.000000</td>\n",
       "      <td>0.685400</td>\n",
       "      <td>0.0</td>\n",
       "      <td>0.0</td>\n",
       "      <td>0.0</td>\n",
       "      <td>0.278676</td>\n",
       "      <td>0.124498</td>\n",
       "      <td>0.0</td>\n",
       "      <td>0.0</td>\n",
       "      <td>...</td>\n",
       "      <td>0.0</td>\n",
       "      <td>0.0</td>\n",
       "      <td>0.000000</td>\n",
       "      <td>0.0</td>\n",
       "      <td>0.0</td>\n",
       "      <td>0.0000</td>\n",
       "      <td>0.138487</td>\n",
       "      <td>0.0</td>\n",
       "      <td>0.221932</td>\n",
       "      <td>0.000000</td>\n",
       "    </tr>\n",
       "  </tbody>\n",
       "</table>\n",
       "<p>6 rows × 128 columns</p>\n",
       "</div>"
      ],
      "text/plain": [
       "     feature0  feature1  feature2  feature3  feature4  feature5  feature6  \\\n",
       "47        0.0  0.023563  0.940871       0.0       0.0       0.0  0.232757   \n",
       "72        0.0  0.000000  0.785413       0.0       0.0       0.0  0.000000   \n",
       "106       0.0  0.104077  0.249532       0.0       0.0       0.0  0.272323   \n",
       "121       0.0  0.000000  0.212845       0.0       0.0       0.0  0.340554   \n",
       "191       0.0  0.000000  0.532508       0.0       0.0       0.0  0.056741   \n",
       "224       0.0  0.000000  0.685400       0.0       0.0       0.0  0.278676   \n",
       "\n",
       "     feature7  feature8  feature9     ...      feature118  feature119  \\\n",
       "47   0.160532       0.0       0.0     ...             0.0         0.0   \n",
       "72   0.000000       0.0       0.0     ...             0.0         0.0   \n",
       "106  0.018525       0.0       0.0     ...             0.0         0.0   \n",
       "121  0.000000       0.0       0.0     ...             0.0         0.0   \n",
       "191  0.013445       0.0       0.0     ...             0.0         0.0   \n",
       "224  0.124498       0.0       0.0     ...             0.0         0.0   \n",
       "\n",
       "     feature120  feature121  feature122  feature123  feature124  feature125  \\\n",
       "47     0.000000         0.0         0.0      0.0000    0.148817         0.0   \n",
       "72     0.000000         0.0         0.0      0.0692    0.117243         0.0   \n",
       "106    0.013792         0.0         0.0      0.0000    0.255551         0.0   \n",
       "121    0.000000         0.0         0.0      0.0000    0.176950         0.0   \n",
       "191    0.000000         0.0         0.0      0.0000    0.010354         0.0   \n",
       "224    0.000000         0.0         0.0      0.0000    0.138487         0.0   \n",
       "\n",
       "     feature126  feature127  \n",
       "47     0.370461    0.062253  \n",
       "72     0.000000    0.000000  \n",
       "106    0.382913    0.013020  \n",
       "121    0.370093    0.000000  \n",
       "191    0.202845    0.178390  \n",
       "224    0.221932    0.000000  \n",
       "\n",
       "[6 rows x 128 columns]"
      ]
     },
     "execution_count": 163,
     "metadata": {},
     "output_type": "execute_result"
    }
   ],
   "source": [
    "test_X"
   ]
  },
  {
   "cell_type": "code",
   "execution_count": 164,
   "metadata": {},
   "outputs": [],
   "source": [
    "from sklearn.model_selection import GridSearchCV\n",
    "from sklearn.model_selection import StratifiedShuffleSplit\n",
    "C_range = np.linspace(180,300, 100)\n",
    "param_grid = dict(C=C_range)\n",
    "cv = StratifiedShuffleSplit(n_splits=5, test_size=0.2, random_state=42)\n",
    "grid = GridSearchCV(svmLinear, param_grid=param_grid, cv=cv)"
   ]
  },
  {
   "cell_type": "code",
   "execution_count": 165,
   "metadata": {},
   "outputs": [
    {
     "data": {
      "text/plain": [
       "GridSearchCV(cv=StratifiedShuffleSplit(n_splits=5, random_state=42, test_size=0.2,\n",
       "            train_size=None),\n",
       "       error_score='raise',\n",
       "       estimator=SVC(C=200, cache_size=200, class_weight=None, coef0=0.0,\n",
       "  decision_function_shape='ovr', degree=3, gamma='auto', kernel='linear',\n",
       "  max_iter=-1, probability=False, random_state=None, shrinking=True,\n",
       "  tol=0.001, verbose=False),\n",
       "       fit_params=None, iid=True, n_jobs=1,\n",
       "       param_grid={'C': array([180.     , 181.21212, ..., 298.78788, 300.     ])},\n",
       "       pre_dispatch='2*n_jobs', refit=True, return_train_score='warn',\n",
       "       scoring=None, verbose=0)"
      ]
     },
     "execution_count": 165,
     "metadata": {},
     "output_type": "execute_result"
    }
   ],
   "source": [
    "grid.fit(train_X[logistic_features], train_y)"
   ]
  },
  {
   "cell_type": "code",
   "execution_count": 166,
   "metadata": {},
   "outputs": [],
   "source": [
    "pred_y = grid.predict(test_X[logistic_features])"
   ]
  },
  {
   "cell_type": "code",
   "execution_count": 167,
   "metadata": {},
   "outputs": [
    {
     "name": "stdout",
     "output_type": "stream",
     "text": [
      "Accuracy of linear SVM classifier on test set: 0.50\n"
     ]
    }
   ],
   "source": [
    "print('Accuracy of linear SVM classifier on test set: {:.2f}'.format(grid.score(test_X[logistic_features], test_y)))"
   ]
  },
  {
   "cell_type": "code",
   "execution_count": 170,
   "metadata": {},
   "outputs": [
    {
     "data": {
      "text/plain": [
       "array([ True,  True, False, False,  True, False])"
      ]
     },
     "execution_count": 170,
     "metadata": {},
     "output_type": "execute_result"
    }
   ],
   "source": [
    "pred_y==1"
   ]
  },
  {
   "cell_type": "markdown",
   "metadata": {},
   "source": [
    "## we are able to predict gesture on question 1,2,5\n",
    "compare the scores for these questions"
   ]
  },
  {
   "cell_type": "code",
   "execution_count": 200,
   "metadata": {},
   "outputs": [],
   "source": [
    "df_scores = pd.read_excel(\"scores_of_test.xlsx\")"
   ]
  },
  {
   "cell_type": "code",
   "execution_count": 201,
   "metadata": {},
   "outputs": [],
   "source": [
    "df_bicycle_scores = df_scores.iloc[:,-7:-1] #select the scores for the bicycle questions from the data frame"
   ]
  },
  {
   "cell_type": "code",
   "execution_count": 204,
   "metadata": {},
   "outputs": [
    {
     "data": {
      "text/html": [
       "<div>\n",
       "<style scoped>\n",
       "    .dataframe tbody tr th:only-of-type {\n",
       "        vertical-align: middle;\n",
       "    }\n",
       "\n",
       "    .dataframe tbody tr th {\n",
       "        vertical-align: top;\n",
       "    }\n",
       "\n",
       "    .dataframe thead th {\n",
       "        text-align: right;\n",
       "    }\n",
       "</style>\n",
       "<table border=\"1\" class=\"dataframe\">\n",
       "  <thead>\n",
       "    <tr style=\"text-align: right;\">\n",
       "      <th></th>\n",
       "      <th>Q1.2</th>\n",
       "      <th>Q2.2</th>\n",
       "      <th>Q3.2</th>\n",
       "      <th>Q4.2</th>\n",
       "      <th>Q5.2</th>\n",
       "      <th>Q6.2</th>\n",
       "    </tr>\n",
       "  </thead>\n",
       "  <tbody>\n",
       "    <tr>\n",
       "      <th>count</th>\n",
       "      <td>61.000000</td>\n",
       "      <td>61.000000</td>\n",
       "      <td>61.000000</td>\n",
       "      <td>61.000000</td>\n",
       "      <td>61.000000</td>\n",
       "      <td>61.000000</td>\n",
       "    </tr>\n",
       "    <tr>\n",
       "      <th>mean</th>\n",
       "      <td>0.770492</td>\n",
       "      <td>0.639344</td>\n",
       "      <td>0.590164</td>\n",
       "      <td>0.704918</td>\n",
       "      <td>0.819672</td>\n",
       "      <td>0.377049</td>\n",
       "    </tr>\n",
       "    <tr>\n",
       "      <th>std</th>\n",
       "      <td>0.424006</td>\n",
       "      <td>0.484176</td>\n",
       "      <td>0.495885</td>\n",
       "      <td>0.459865</td>\n",
       "      <td>0.387651</td>\n",
       "      <td>0.488669</td>\n",
       "    </tr>\n",
       "    <tr>\n",
       "      <th>min</th>\n",
       "      <td>0.000000</td>\n",
       "      <td>0.000000</td>\n",
       "      <td>0.000000</td>\n",
       "      <td>0.000000</td>\n",
       "      <td>0.000000</td>\n",
       "      <td>0.000000</td>\n",
       "    </tr>\n",
       "    <tr>\n",
       "      <th>25%</th>\n",
       "      <td>1.000000</td>\n",
       "      <td>0.000000</td>\n",
       "      <td>0.000000</td>\n",
       "      <td>0.000000</td>\n",
       "      <td>1.000000</td>\n",
       "      <td>0.000000</td>\n",
       "    </tr>\n",
       "    <tr>\n",
       "      <th>50%</th>\n",
       "      <td>1.000000</td>\n",
       "      <td>1.000000</td>\n",
       "      <td>1.000000</td>\n",
       "      <td>1.000000</td>\n",
       "      <td>1.000000</td>\n",
       "      <td>0.000000</td>\n",
       "    </tr>\n",
       "    <tr>\n",
       "      <th>75%</th>\n",
       "      <td>1.000000</td>\n",
       "      <td>1.000000</td>\n",
       "      <td>1.000000</td>\n",
       "      <td>1.000000</td>\n",
       "      <td>1.000000</td>\n",
       "      <td>1.000000</td>\n",
       "    </tr>\n",
       "    <tr>\n",
       "      <th>max</th>\n",
       "      <td>1.000000</td>\n",
       "      <td>1.000000</td>\n",
       "      <td>1.000000</td>\n",
       "      <td>1.000000</td>\n",
       "      <td>1.000000</td>\n",
       "      <td>1.000000</td>\n",
       "    </tr>\n",
       "  </tbody>\n",
       "</table>\n",
       "</div>"
      ],
      "text/plain": [
       "            Q1.2       Q2.2       Q3.2       Q4.2       Q5.2       Q6.2\n",
       "count  61.000000  61.000000  61.000000  61.000000  61.000000  61.000000\n",
       "mean    0.770492   0.639344   0.590164   0.704918   0.819672   0.377049\n",
       "std     0.424006   0.484176   0.495885   0.459865   0.387651   0.488669\n",
       "min     0.000000   0.000000   0.000000   0.000000   0.000000   0.000000\n",
       "25%     1.000000   0.000000   0.000000   0.000000   1.000000   0.000000\n",
       "50%     1.000000   1.000000   1.000000   1.000000   1.000000   0.000000\n",
       "75%     1.000000   1.000000   1.000000   1.000000   1.000000   1.000000\n",
       "max     1.000000   1.000000   1.000000   1.000000   1.000000   1.000000"
      ]
     },
     "execution_count": 204,
     "metadata": {},
     "output_type": "execute_result"
    }
   ],
   "source": [
    "df_bicycle_scores.describe()"
   ]
  },
  {
   "cell_type": "code",
   "execution_count": 220,
   "metadata": {},
   "outputs": [],
   "source": [
    "df_pred_corr_ques= df_bicycle_scores.loc[:,pred_y==1]"
   ]
  },
  {
   "cell_type": "code",
   "execution_count": 221,
   "metadata": {},
   "outputs": [],
   "source": [
    "df_pred_incorr_ques= df_bicycle_scores.loc[:,pred_y!=1]"
   ]
  },
  {
   "cell_type": "code",
   "execution_count": 222,
   "metadata": {},
   "outputs": [],
   "source": [
    "from scipy import stats"
   ]
  },
  {
   "cell_type": "code",
   "execution_count": 230,
   "metadata": {},
   "outputs": [
    {
     "name": "stdout",
     "output_type": "stream",
     "text": [
      "0 0\n",
      "for Q1.2 and Q3.2 is Ttest_relResult(statistic=2.3797114365109153, pvalue=0.020522194601492103)\n",
      "0 1\n",
      "for Q1.2 and Q4.2 is Ttest_relResult(statistic=0.8142379415222338, pvalue=0.41872858301815674)\n",
      "0 2\n",
      "for Q1.2 and Q6.2 is Ttest_relResult(statistic=4.618802153517007, pvalue=2.0904438134357708e-05)\n",
      "1 0\n",
      "for Q2.2 and Q3.2 is Ttest_relResult(statistic=0.5039822601366593, pvalue=0.6161194771733105)\n",
      "1 1\n",
      "for Q2.2 and Q4.2 is Ttest_relResult(statistic=-0.8508712596230341, pvalue=0.3982238760222032)\n",
      "1 2\n",
      "for Q2.2 and Q6.2 is Ttest_relResult(statistic=2.8138098324506364, pvalue=0.0066103755070775466)\n",
      "2 0\n",
      "for Q5.2 and Q3.2 is Ttest_relResult(statistic=3.0453978310767242, pvalue=0.003449172529857805)\n",
      "2 1\n",
      "for Q5.2 and Q4.2 is Ttest_relResult(statistic=1.5447859516333118, pvalue=0.12765651816462362)\n",
      "2 2\n",
      "for Q5.2 and Q6.2 is Ttest_relResult(statistic=6.135307372712406, pvalue=7.293398040368594e-08)\n"
     ]
    }
   ],
   "source": [
    "for i in range(3):\n",
    "    for j in range(3):\n",
    "        print(i,j)\n",
    "        tstat = stats.ttest_rel(df_pred_corr_ques.iloc[:,i],df_pred_incorr_ques.iloc[:,j])\n",
    "        print(f\"for {df_pred_corr_ques.columns[i]} and {df_pred_incorr_ques.columns[j]} is {tstat}\")"
   ]
  },
  {
   "cell_type": "code",
   "execution_count": null,
   "metadata": {},
   "outputs": [],
   "source": []
  },
  {
   "cell_type": "code",
   "execution_count": null,
   "metadata": {},
   "outputs": [],
   "source": []
  }
 ],
 "metadata": {
  "kernelspec": {
   "display_name": "Python (gesture)",
   "language": "python",
   "name": "gesture"
  },
  "language_info": {
   "codemirror_mode": {
    "name": "ipython",
    "version": 3
   },
   "file_extension": ".py",
   "mimetype": "text/x-python",
   "name": "python",
   "nbconvert_exporter": "python",
   "pygments_lexer": "ipython3",
   "version": "3.6.5"
  }
 },
 "nbformat": 4,
 "nbformat_minor": 2
}
